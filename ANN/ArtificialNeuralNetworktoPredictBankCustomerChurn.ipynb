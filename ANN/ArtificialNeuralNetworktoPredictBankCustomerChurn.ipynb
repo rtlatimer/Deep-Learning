{
 "cells": [
  {
   "cell_type": "markdown",
   "metadata": {},
   "source": [
    "## Predicting Bank Customer Churn with an Artificial Neural Network"
   ]
  },
  {
   "cell_type": "markdown",
   "metadata": {},
   "source": [
    "In this project, we will build an Artificial Neural Network to predict which bank customers are likely to leave the bank."
   ]
  },
  {
   "cell_type": "code",
   "execution_count": 1,
   "metadata": {
    "collapsed": true
   },
   "outputs": [],
   "source": [
    "# Importing the libraries\n",
    "import numpy as np\n",
    "import matplotlib.pyplot as plt\n",
    "import pandas as pd"
   ]
  },
  {
   "cell_type": "code",
   "execution_count": 2,
   "metadata": {
    "collapsed": true
   },
   "outputs": [],
   "source": [
    "# Importing the dataset\n",
    "dataset = pd.read_csv('Churn_Modelling.csv')"
   ]
  },
  {
   "cell_type": "markdown",
   "metadata": {},
   "source": [
    "### Data Prep"
   ]
  },
  {
   "cell_type": "code",
   "execution_count": 3,
   "metadata": {},
   "outputs": [
    {
     "data": {
      "text/html": [
       "<div>\n",
       "<style>\n",
       "    .dataframe thead tr:only-child th {\n",
       "        text-align: right;\n",
       "    }\n",
       "\n",
       "    .dataframe thead th {\n",
       "        text-align: left;\n",
       "    }\n",
       "\n",
       "    .dataframe tbody tr th {\n",
       "        vertical-align: top;\n",
       "    }\n",
       "</style>\n",
       "<table border=\"1\" class=\"dataframe\">\n",
       "  <thead>\n",
       "    <tr style=\"text-align: right;\">\n",
       "      <th></th>\n",
       "      <th>RowNumber</th>\n",
       "      <th>CustomerId</th>\n",
       "      <th>Surname</th>\n",
       "      <th>CreditScore</th>\n",
       "      <th>Geography</th>\n",
       "      <th>Gender</th>\n",
       "      <th>Age</th>\n",
       "      <th>Tenure</th>\n",
       "      <th>Balance</th>\n",
       "      <th>NumOfProducts</th>\n",
       "      <th>HasCrCard</th>\n",
       "      <th>IsActiveMember</th>\n",
       "      <th>EstimatedSalary</th>\n",
       "      <th>Exited</th>\n",
       "    </tr>\n",
       "  </thead>\n",
       "  <tbody>\n",
       "    <tr>\n",
       "      <th>0</th>\n",
       "      <td>1</td>\n",
       "      <td>15634602</td>\n",
       "      <td>Hargrave</td>\n",
       "      <td>619</td>\n",
       "      <td>France</td>\n",
       "      <td>Female</td>\n",
       "      <td>42</td>\n",
       "      <td>2</td>\n",
       "      <td>0.00</td>\n",
       "      <td>1</td>\n",
       "      <td>1</td>\n",
       "      <td>1</td>\n",
       "      <td>101348.88</td>\n",
       "      <td>1</td>\n",
       "    </tr>\n",
       "    <tr>\n",
       "      <th>1</th>\n",
       "      <td>2</td>\n",
       "      <td>15647311</td>\n",
       "      <td>Hill</td>\n",
       "      <td>608</td>\n",
       "      <td>Spain</td>\n",
       "      <td>Female</td>\n",
       "      <td>41</td>\n",
       "      <td>1</td>\n",
       "      <td>83807.86</td>\n",
       "      <td>1</td>\n",
       "      <td>0</td>\n",
       "      <td>1</td>\n",
       "      <td>112542.58</td>\n",
       "      <td>0</td>\n",
       "    </tr>\n",
       "    <tr>\n",
       "      <th>2</th>\n",
       "      <td>3</td>\n",
       "      <td>15619304</td>\n",
       "      <td>Onio</td>\n",
       "      <td>502</td>\n",
       "      <td>France</td>\n",
       "      <td>Female</td>\n",
       "      <td>42</td>\n",
       "      <td>8</td>\n",
       "      <td>159660.80</td>\n",
       "      <td>3</td>\n",
       "      <td>1</td>\n",
       "      <td>0</td>\n",
       "      <td>113931.57</td>\n",
       "      <td>1</td>\n",
       "    </tr>\n",
       "    <tr>\n",
       "      <th>3</th>\n",
       "      <td>4</td>\n",
       "      <td>15701354</td>\n",
       "      <td>Boni</td>\n",
       "      <td>699</td>\n",
       "      <td>France</td>\n",
       "      <td>Female</td>\n",
       "      <td>39</td>\n",
       "      <td>1</td>\n",
       "      <td>0.00</td>\n",
       "      <td>2</td>\n",
       "      <td>0</td>\n",
       "      <td>0</td>\n",
       "      <td>93826.63</td>\n",
       "      <td>0</td>\n",
       "    </tr>\n",
       "    <tr>\n",
       "      <th>4</th>\n",
       "      <td>5</td>\n",
       "      <td>15737888</td>\n",
       "      <td>Mitchell</td>\n",
       "      <td>850</td>\n",
       "      <td>Spain</td>\n",
       "      <td>Female</td>\n",
       "      <td>43</td>\n",
       "      <td>2</td>\n",
       "      <td>125510.82</td>\n",
       "      <td>1</td>\n",
       "      <td>1</td>\n",
       "      <td>1</td>\n",
       "      <td>79084.10</td>\n",
       "      <td>0</td>\n",
       "    </tr>\n",
       "    <tr>\n",
       "      <th>5</th>\n",
       "      <td>6</td>\n",
       "      <td>15574012</td>\n",
       "      <td>Chu</td>\n",
       "      <td>645</td>\n",
       "      <td>Spain</td>\n",
       "      <td>Male</td>\n",
       "      <td>44</td>\n",
       "      <td>8</td>\n",
       "      <td>113755.78</td>\n",
       "      <td>2</td>\n",
       "      <td>1</td>\n",
       "      <td>0</td>\n",
       "      <td>149756.71</td>\n",
       "      <td>1</td>\n",
       "    </tr>\n",
       "    <tr>\n",
       "      <th>6</th>\n",
       "      <td>7</td>\n",
       "      <td>15592531</td>\n",
       "      <td>Bartlett</td>\n",
       "      <td>822</td>\n",
       "      <td>France</td>\n",
       "      <td>Male</td>\n",
       "      <td>50</td>\n",
       "      <td>7</td>\n",
       "      <td>0.00</td>\n",
       "      <td>2</td>\n",
       "      <td>1</td>\n",
       "      <td>1</td>\n",
       "      <td>10062.80</td>\n",
       "      <td>0</td>\n",
       "    </tr>\n",
       "    <tr>\n",
       "      <th>7</th>\n",
       "      <td>8</td>\n",
       "      <td>15656148</td>\n",
       "      <td>Obinna</td>\n",
       "      <td>376</td>\n",
       "      <td>Germany</td>\n",
       "      <td>Female</td>\n",
       "      <td>29</td>\n",
       "      <td>4</td>\n",
       "      <td>115046.74</td>\n",
       "      <td>4</td>\n",
       "      <td>1</td>\n",
       "      <td>0</td>\n",
       "      <td>119346.88</td>\n",
       "      <td>1</td>\n",
       "    </tr>\n",
       "    <tr>\n",
       "      <th>8</th>\n",
       "      <td>9</td>\n",
       "      <td>15792365</td>\n",
       "      <td>He</td>\n",
       "      <td>501</td>\n",
       "      <td>France</td>\n",
       "      <td>Male</td>\n",
       "      <td>44</td>\n",
       "      <td>4</td>\n",
       "      <td>142051.07</td>\n",
       "      <td>2</td>\n",
       "      <td>0</td>\n",
       "      <td>1</td>\n",
       "      <td>74940.50</td>\n",
       "      <td>0</td>\n",
       "    </tr>\n",
       "    <tr>\n",
       "      <th>9</th>\n",
       "      <td>10</td>\n",
       "      <td>15592389</td>\n",
       "      <td>H?</td>\n",
       "      <td>684</td>\n",
       "      <td>France</td>\n",
       "      <td>Male</td>\n",
       "      <td>27</td>\n",
       "      <td>2</td>\n",
       "      <td>134603.88</td>\n",
       "      <td>1</td>\n",
       "      <td>1</td>\n",
       "      <td>1</td>\n",
       "      <td>71725.73</td>\n",
       "      <td>0</td>\n",
       "    </tr>\n",
       "  </tbody>\n",
       "</table>\n",
       "</div>"
      ],
      "text/plain": [
       "   RowNumber  CustomerId   Surname  CreditScore Geography  Gender  Age  \\\n",
       "0          1    15634602  Hargrave          619    France  Female   42   \n",
       "1          2    15647311      Hill          608     Spain  Female   41   \n",
       "2          3    15619304      Onio          502    France  Female   42   \n",
       "3          4    15701354      Boni          699    France  Female   39   \n",
       "4          5    15737888  Mitchell          850     Spain  Female   43   \n",
       "5          6    15574012       Chu          645     Spain    Male   44   \n",
       "6          7    15592531  Bartlett          822    France    Male   50   \n",
       "7          8    15656148    Obinna          376   Germany  Female   29   \n",
       "8          9    15792365        He          501    France    Male   44   \n",
       "9         10    15592389        H?          684    France    Male   27   \n",
       "\n",
       "   Tenure    Balance  NumOfProducts  HasCrCard  IsActiveMember  \\\n",
       "0       2       0.00              1          1               1   \n",
       "1       1   83807.86              1          0               1   \n",
       "2       8  159660.80              3          1               0   \n",
       "3       1       0.00              2          0               0   \n",
       "4       2  125510.82              1          1               1   \n",
       "5       8  113755.78              2          1               0   \n",
       "6       7       0.00              2          1               1   \n",
       "7       4  115046.74              4          1               0   \n",
       "8       4  142051.07              2          0               1   \n",
       "9       2  134603.88              1          1               1   \n",
       "\n",
       "   EstimatedSalary  Exited  \n",
       "0        101348.88       1  \n",
       "1        112542.58       0  \n",
       "2        113931.57       1  \n",
       "3         93826.63       0  \n",
       "4         79084.10       0  \n",
       "5        149756.71       1  \n",
       "6         10062.80       0  \n",
       "7        119346.88       1  \n",
       "8         74940.50       0  \n",
       "9         71725.73       0  "
      ]
     },
     "execution_count": 3,
     "metadata": {},
     "output_type": "execute_result"
    }
   ],
   "source": [
    "dataset.head(10)"
   ]
  },
  {
   "cell_type": "code",
   "execution_count": 4,
   "metadata": {},
   "outputs": [
    {
     "name": "stdout",
     "output_type": "stream",
     "text": [
      "<class 'pandas.core.frame.DataFrame'>\n",
      "RangeIndex: 10000 entries, 0 to 9999\n",
      "Data columns (total 14 columns):\n",
      "RowNumber          10000 non-null int64\n",
      "CustomerId         10000 non-null int64\n",
      "Surname            10000 non-null object\n",
      "CreditScore        10000 non-null int64\n",
      "Geography          10000 non-null object\n",
      "Gender             10000 non-null object\n",
      "Age                10000 non-null int64\n",
      "Tenure             10000 non-null int64\n",
      "Balance            10000 non-null float64\n",
      "NumOfProducts      10000 non-null int64\n",
      "HasCrCard          10000 non-null int64\n",
      "IsActiveMember     10000 non-null int64\n",
      "EstimatedSalary    10000 non-null float64\n",
      "Exited             10000 non-null int64\n",
      "dtypes: float64(2), int64(9), object(3)\n",
      "memory usage: 1.1+ MB\n"
     ]
    }
   ],
   "source": [
    "dataset.info()"
   ]
  },
  {
   "cell_type": "code",
   "execution_count": 5,
   "metadata": {},
   "outputs": [
    {
     "data": {
      "text/html": [
       "<div>\n",
       "<style>\n",
       "    .dataframe thead tr:only-child th {\n",
       "        text-align: right;\n",
       "    }\n",
       "\n",
       "    .dataframe thead th {\n",
       "        text-align: left;\n",
       "    }\n",
       "\n",
       "    .dataframe tbody tr th {\n",
       "        vertical-align: top;\n",
       "    }\n",
       "</style>\n",
       "<table border=\"1\" class=\"dataframe\">\n",
       "  <thead>\n",
       "    <tr style=\"text-align: right;\">\n",
       "      <th></th>\n",
       "      <th>RowNumber</th>\n",
       "      <th>CustomerId</th>\n",
       "      <th>CreditScore</th>\n",
       "      <th>Age</th>\n",
       "      <th>Tenure</th>\n",
       "      <th>Balance</th>\n",
       "      <th>NumOfProducts</th>\n",
       "      <th>HasCrCard</th>\n",
       "      <th>IsActiveMember</th>\n",
       "      <th>EstimatedSalary</th>\n",
       "      <th>Exited</th>\n",
       "    </tr>\n",
       "  </thead>\n",
       "  <tbody>\n",
       "    <tr>\n",
       "      <th>count</th>\n",
       "      <td>10000.00000</td>\n",
       "      <td>1.000000e+04</td>\n",
       "      <td>10000.000000</td>\n",
       "      <td>10000.000000</td>\n",
       "      <td>10000.000000</td>\n",
       "      <td>10000.000000</td>\n",
       "      <td>10000.000000</td>\n",
       "      <td>10000.00000</td>\n",
       "      <td>10000.000000</td>\n",
       "      <td>10000.000000</td>\n",
       "      <td>10000.000000</td>\n",
       "    </tr>\n",
       "    <tr>\n",
       "      <th>mean</th>\n",
       "      <td>5000.50000</td>\n",
       "      <td>1.569094e+07</td>\n",
       "      <td>650.528800</td>\n",
       "      <td>38.921800</td>\n",
       "      <td>5.012800</td>\n",
       "      <td>76485.889288</td>\n",
       "      <td>1.530200</td>\n",
       "      <td>0.70550</td>\n",
       "      <td>0.515100</td>\n",
       "      <td>100090.239881</td>\n",
       "      <td>0.203700</td>\n",
       "    </tr>\n",
       "    <tr>\n",
       "      <th>std</th>\n",
       "      <td>2886.89568</td>\n",
       "      <td>7.193619e+04</td>\n",
       "      <td>96.653299</td>\n",
       "      <td>10.487806</td>\n",
       "      <td>2.892174</td>\n",
       "      <td>62397.405202</td>\n",
       "      <td>0.581654</td>\n",
       "      <td>0.45584</td>\n",
       "      <td>0.499797</td>\n",
       "      <td>57510.492818</td>\n",
       "      <td>0.402769</td>\n",
       "    </tr>\n",
       "    <tr>\n",
       "      <th>min</th>\n",
       "      <td>1.00000</td>\n",
       "      <td>1.556570e+07</td>\n",
       "      <td>350.000000</td>\n",
       "      <td>18.000000</td>\n",
       "      <td>0.000000</td>\n",
       "      <td>0.000000</td>\n",
       "      <td>1.000000</td>\n",
       "      <td>0.00000</td>\n",
       "      <td>0.000000</td>\n",
       "      <td>11.580000</td>\n",
       "      <td>0.000000</td>\n",
       "    </tr>\n",
       "    <tr>\n",
       "      <th>25%</th>\n",
       "      <td>2500.75000</td>\n",
       "      <td>1.562853e+07</td>\n",
       "      <td>584.000000</td>\n",
       "      <td>32.000000</td>\n",
       "      <td>3.000000</td>\n",
       "      <td>0.000000</td>\n",
       "      <td>1.000000</td>\n",
       "      <td>0.00000</td>\n",
       "      <td>0.000000</td>\n",
       "      <td>51002.110000</td>\n",
       "      <td>0.000000</td>\n",
       "    </tr>\n",
       "    <tr>\n",
       "      <th>50%</th>\n",
       "      <td>5000.50000</td>\n",
       "      <td>1.569074e+07</td>\n",
       "      <td>652.000000</td>\n",
       "      <td>37.000000</td>\n",
       "      <td>5.000000</td>\n",
       "      <td>97198.540000</td>\n",
       "      <td>1.000000</td>\n",
       "      <td>1.00000</td>\n",
       "      <td>1.000000</td>\n",
       "      <td>100193.915000</td>\n",
       "      <td>0.000000</td>\n",
       "    </tr>\n",
       "    <tr>\n",
       "      <th>75%</th>\n",
       "      <td>7500.25000</td>\n",
       "      <td>1.575323e+07</td>\n",
       "      <td>718.000000</td>\n",
       "      <td>44.000000</td>\n",
       "      <td>7.000000</td>\n",
       "      <td>127644.240000</td>\n",
       "      <td>2.000000</td>\n",
       "      <td>1.00000</td>\n",
       "      <td>1.000000</td>\n",
       "      <td>149388.247500</td>\n",
       "      <td>0.000000</td>\n",
       "    </tr>\n",
       "    <tr>\n",
       "      <th>max</th>\n",
       "      <td>10000.00000</td>\n",
       "      <td>1.581569e+07</td>\n",
       "      <td>850.000000</td>\n",
       "      <td>92.000000</td>\n",
       "      <td>10.000000</td>\n",
       "      <td>250898.090000</td>\n",
       "      <td>4.000000</td>\n",
       "      <td>1.00000</td>\n",
       "      <td>1.000000</td>\n",
       "      <td>199992.480000</td>\n",
       "      <td>1.000000</td>\n",
       "    </tr>\n",
       "  </tbody>\n",
       "</table>\n",
       "</div>"
      ],
      "text/plain": [
       "         RowNumber    CustomerId   CreditScore           Age        Tenure  \\\n",
       "count  10000.00000  1.000000e+04  10000.000000  10000.000000  10000.000000   \n",
       "mean    5000.50000  1.569094e+07    650.528800     38.921800      5.012800   \n",
       "std     2886.89568  7.193619e+04     96.653299     10.487806      2.892174   \n",
       "min        1.00000  1.556570e+07    350.000000     18.000000      0.000000   \n",
       "25%     2500.75000  1.562853e+07    584.000000     32.000000      3.000000   \n",
       "50%     5000.50000  1.569074e+07    652.000000     37.000000      5.000000   \n",
       "75%     7500.25000  1.575323e+07    718.000000     44.000000      7.000000   \n",
       "max    10000.00000  1.581569e+07    850.000000     92.000000     10.000000   \n",
       "\n",
       "             Balance  NumOfProducts    HasCrCard  IsActiveMember  \\\n",
       "count   10000.000000   10000.000000  10000.00000    10000.000000   \n",
       "mean    76485.889288       1.530200      0.70550        0.515100   \n",
       "std     62397.405202       0.581654      0.45584        0.499797   \n",
       "min         0.000000       1.000000      0.00000        0.000000   \n",
       "25%         0.000000       1.000000      0.00000        0.000000   \n",
       "50%     97198.540000       1.000000      1.00000        1.000000   \n",
       "75%    127644.240000       2.000000      1.00000        1.000000   \n",
       "max    250898.090000       4.000000      1.00000        1.000000   \n",
       "\n",
       "       EstimatedSalary        Exited  \n",
       "count     10000.000000  10000.000000  \n",
       "mean     100090.239881      0.203700  \n",
       "std       57510.492818      0.402769  \n",
       "min          11.580000      0.000000  \n",
       "25%       51002.110000      0.000000  \n",
       "50%      100193.915000      0.000000  \n",
       "75%      149388.247500      0.000000  \n",
       "max      199992.480000      1.000000  "
      ]
     },
     "execution_count": 5,
     "metadata": {},
     "output_type": "execute_result"
    }
   ],
   "source": [
    "dataset.describe()"
   ]
  },
  {
   "cell_type": "markdown",
   "metadata": {},
   "source": [
    "Okay... we have a dataset with 10,000 bank customers and we are trying to predict which customers are at risk of leaving the bank given historical information. Our dataset has 14 different features, so let's check them out:\n",
    " - **RowNumber** - Index of the dataset\n",
    " - **CustomerID** - Unique customer ID number\n",
    " - **Surname** - Customer's surname\n",
    " - **CreditScore** - Customer's credit score\n",
    " - **Geography** - Where is the customer located?\n",
    " - **Gender** - What is the customer's gender?\n",
    " - **Age** - Customer's age\n",
    " - **Tenure** - How long the customer has been with the bank\n",
    " - **Balance** - How much money does the customer have in their bank account?\n",
    " - **NumOfProducts** - How many bank products has the customer signed up for?\n",
    " - **HasCrCard** - Whether or not the customer has a credit card\n",
    " - **IsActiveMember** - If the customer is active or not.\n",
    " - **EstimatedSalary** - Estimation of customer's salary\n",
    " - **Exited** - Whether or not the customer is still with the bank."
   ]
  },
  {
   "cell_type": "code",
   "execution_count": 8,
   "metadata": {
    "collapsed": true
   },
   "outputs": [],
   "source": [
    "# To predict, we will not use RowNumber, CustomerID, or Surname, or Exited (predicting this feature)\n",
    "X = dataset.iloc[:,3:13].values"
   ]
  },
  {
   "cell_type": "code",
   "execution_count": 9,
   "metadata": {
    "collapsed": true
   },
   "outputs": [],
   "source": [
    "# Set our prediction feature\n",
    "y = dataset['Exited']"
   ]
  },
  {
   "cell_type": "code",
   "execution_count": 10,
   "metadata": {},
   "outputs": [
    {
     "data": {
      "text/plain": [
       "array([[619, 'France', 'Female', ..., 1, 1, 101348.88],\n",
       "       [608, 'Spain', 'Female', ..., 0, 1, 112542.58],\n",
       "       [502, 'France', 'Female', ..., 1, 0, 113931.57],\n",
       "       ..., \n",
       "       [709, 'France', 'Female', ..., 0, 1, 42085.58],\n",
       "       [772, 'Germany', 'Male', ..., 1, 0, 92888.52],\n",
       "       [792, 'France', 'Female', ..., 1, 0, 38190.78]], dtype=object)"
      ]
     },
     "execution_count": 10,
     "metadata": {},
     "output_type": "execute_result"
    }
   ],
   "source": [
    "X"
   ]
  },
  {
   "cell_type": "markdown",
   "metadata": {},
   "source": [
    "Now we need to convert our categorical features into numerical values. The only features we need to change are **Geography** and **Gender**. Geography only consists of *France, Spain*, and *Germany*, and Gender only consists of *Male* and *Female*."
   ]
  },
  {
   "cell_type": "code",
   "execution_count": 11,
   "metadata": {
    "collapsed": true
   },
   "outputs": [],
   "source": [
    "# Encoding categorical data\n",
    "from sklearn.preprocessing import LabelEncoder, OneHotEncoder"
   ]
  },
  {
   "cell_type": "code",
   "execution_count": 12,
   "metadata": {
    "collapsed": true
   },
   "outputs": [],
   "source": [
    "labelencoder_X_1 = LabelEncoder()"
   ]
  },
  {
   "cell_type": "code",
   "execution_count": 14,
   "metadata": {
    "collapsed": true
   },
   "outputs": [],
   "source": [
    "# Index at 1 is Geography\n",
    "# Call .fit_transform of our Geography category\n",
    "X[:,1] = labelencoder_X_1.fit_transform(X[:,1])"
   ]
  },
  {
   "cell_type": "code",
   "execution_count": 15,
   "metadata": {
    "collapsed": true
   },
   "outputs": [],
   "source": [
    "# And do the same for the Gender feature\n",
    "labelencoder_X_2 = LabelEncoder()\n",
    "X[:,2] = labelencoder_X_2.fit_transform(X[:,2])"
   ]
  },
  {
   "cell_type": "code",
   "execution_count": 17,
   "metadata": {},
   "outputs": [
    {
     "data": {
      "text/plain": [
       "array([[619, 0, 0, ..., 1, 1, 101348.88],\n",
       "       [608, 2, 0, ..., 0, 1, 112542.58],\n",
       "       [502, 0, 0, ..., 1, 0, 113931.57],\n",
       "       ..., \n",
       "       [709, 0, 0, ..., 0, 1, 42085.58],\n",
       "       [772, 1, 1, ..., 1, 0, 92888.52],\n",
       "       [792, 0, 0, ..., 1, 0, 38190.78]], dtype=object)"
      ]
     },
     "execution_count": 17,
     "metadata": {},
     "output_type": "execute_result"
    }
   ],
   "source": [
    "X"
   ]
  },
  {
   "cell_type": "code",
   "execution_count": 18,
   "metadata": {
    "collapsed": true
   },
   "outputs": [],
   "source": [
    "# Now we will create dummy variables for our Geography feature, so we are only working with 1s and 0s\n",
    "# We also want to refrain from the dummy variable trap, so we must only use 2 of the 3 dummy variable columns\n",
    "onehotencoder = OneHotEncoder(categorical_features = [1])\n",
    "X = onehotencoder.fit_transform(X).toarray()\n",
    "X = X[:, 1:]"
   ]
  },
  {
   "cell_type": "code",
   "execution_count": 19,
   "metadata": {},
   "outputs": [
    {
     "data": {
      "text/plain": [
       "array([[  0.00000000e+00,   0.00000000e+00,   6.19000000e+02, ...,\n",
       "          1.00000000e+00,   1.00000000e+00,   1.01348880e+05],\n",
       "       [  0.00000000e+00,   1.00000000e+00,   6.08000000e+02, ...,\n",
       "          0.00000000e+00,   1.00000000e+00,   1.12542580e+05],\n",
       "       [  0.00000000e+00,   0.00000000e+00,   5.02000000e+02, ...,\n",
       "          1.00000000e+00,   0.00000000e+00,   1.13931570e+05],\n",
       "       ..., \n",
       "       [  0.00000000e+00,   0.00000000e+00,   7.09000000e+02, ...,\n",
       "          0.00000000e+00,   1.00000000e+00,   4.20855800e+04],\n",
       "       [  1.00000000e+00,   0.00000000e+00,   7.72000000e+02, ...,\n",
       "          1.00000000e+00,   0.00000000e+00,   9.28885200e+04],\n",
       "       [  0.00000000e+00,   0.00000000e+00,   7.92000000e+02, ...,\n",
       "          1.00000000e+00,   0.00000000e+00,   3.81907800e+04]])"
      ]
     },
     "execution_count": 19,
     "metadata": {},
     "output_type": "execute_result"
    }
   ],
   "source": [
    "X"
   ]
  },
  {
   "cell_type": "markdown",
   "metadata": {},
   "source": [
    "### Training the Data\n",
    "\n",
    "Now that our data is properly formatted for analysis, let's train our model."
   ]
  },
  {
   "cell_type": "code",
   "execution_count": 20,
   "metadata": {
    "collapsed": true
   },
   "outputs": [],
   "source": [
    "from sklearn.model_selection import train_test_split"
   ]
  },
  {
   "cell_type": "code",
   "execution_count": 21,
   "metadata": {
    "collapsed": true
   },
   "outputs": [],
   "source": [
    "X_train, X_test, y_train, y_test = train_test_split(X,y,test_size=0.2, random_state=0)"
   ]
  },
  {
   "cell_type": "markdown",
   "metadata": {},
   "source": [
    "To prevent one independent variable from dominating another one, we must scale our features so all of the values fall on a normal distribution straddling 0."
   ]
  },
  {
   "cell_type": "code",
   "execution_count": 22,
   "metadata": {
    "collapsed": true
   },
   "outputs": [],
   "source": [
    "from sklearn.preprocessing import StandardScaler"
   ]
  },
  {
   "cell_type": "code",
   "execution_count": 23,
   "metadata": {
    "collapsed": true
   },
   "outputs": [],
   "source": [
    "# create a standard scaler instance\n",
    "sc = StandardScaler()"
   ]
  },
  {
   "cell_type": "code",
   "execution_count": 24,
   "metadata": {
    "collapsed": true
   },
   "outputs": [],
   "source": [
    "X_train = sc.fit_transform(X_train)\n",
    "X_test = sc.fit_transform(X_test)"
   ]
  },
  {
   "cell_type": "code",
   "execution_count": 25,
   "metadata": {},
   "outputs": [
    {
     "data": {
      "text/plain": [
       "array([[-0.5698444 ,  1.74309049,  0.16958176, ...,  0.64259497,\n",
       "        -1.03227043,  1.10643166],\n",
       "       [ 1.75486502, -0.57369368, -2.30455945, ...,  0.64259497,\n",
       "         0.9687384 , -0.74866447],\n",
       "       [-0.5698444 , -0.57369368, -1.19119591, ...,  0.64259497,\n",
       "        -1.03227043,  1.48533467],\n",
       "       ..., \n",
       "       [-0.5698444 , -0.57369368,  0.9015152 , ...,  0.64259497,\n",
       "        -1.03227043,  1.41231994],\n",
       "       [-0.5698444 ,  1.74309049, -0.62420521, ...,  0.64259497,\n",
       "         0.9687384 ,  0.84432121],\n",
       "       [ 1.75486502, -0.57369368, -0.28401079, ...,  0.64259497,\n",
       "        -1.03227043,  0.32472465]])"
      ]
     },
     "execution_count": 25,
     "metadata": {},
     "output_type": "execute_result"
    }
   ],
   "source": [
    "X_train"
   ]
  },
  {
   "cell_type": "markdown",
   "metadata": {},
   "source": [
    "### Build the Artificial Neural Network"
   ]
  },
  {
   "cell_type": "markdown",
   "metadata": {},
   "source": [
    "Steps for implementing an ANN."
   ]
  },
  {
   "cell_type": "markdown",
   "metadata": {},
   "source": [
    "<img src=\"ANN_steps.png\">"
   ]
  },
  {
   "cell_type": "code",
   "execution_count": 26,
   "metadata": {},
   "outputs": [
    {
     "name": "stderr",
     "output_type": "stream",
     "text": [
      "Using TensorFlow backend.\n"
     ]
    }
   ],
   "source": [
    "# import Keras modules\n",
    "import keras"
   ]
  },
  {
   "cell_type": "code",
   "execution_count": 27,
   "metadata": {
    "collapsed": true
   },
   "outputs": [],
   "source": [
    "from keras.models import Sequential"
   ]
  },
  {
   "cell_type": "code",
   "execution_count": 28,
   "metadata": {
    "collapsed": true
   },
   "outputs": [],
   "source": [
    "from keras.layers import Dense"
   ]
  },
  {
   "cell_type": "code",
   "execution_count": 29,
   "metadata": {
    "collapsed": true
   },
   "outputs": [],
   "source": [
    "# Initializing the ANN\n",
    "classifier = Sequential()"
   ]
  },
  {
   "cell_type": "markdown",
   "metadata": {
    "collapsed": true
   },
   "source": [
    "For the activation function for the hidden layers, we will use the Rectifier Function, and we will use the Sigmoid Function for the output layer. This will provide us with a % likelihood of a customer who is likely to churn."
   ]
  },
  {
   "cell_type": "code",
   "execution_count": 30,
   "metadata": {
    "collapsed": true
   },
   "outputs": [],
   "source": [
    "# Adding the input layer and the first hidden layer\n",
    "# Use the sequential.add() method and call Dense\n",
    "# Units is the number of nodes to add to the hidden layer. Rule of thumb says use the average between input layer & output layer\n",
    "# kernel_initializer='uniform' sets our inital weights to uniform random values\n",
    "# activation = 'relu' means Rectifier function for activation function of this layer\n",
    "# input_dim = 11 means we have 11 independent variables in our input layer\n",
    "classifier.add(Dense(units = 6, kernel_initializer = 'uniform', activation = 'relu', input_dim = 11))"
   ]
  },
  {
   "cell_type": "code",
   "execution_count": 31,
   "metadata": {
    "collapsed": true
   },
   "outputs": [],
   "source": [
    "# Adding a 2nd hidden layer\n",
    "# same as above, except we don't need to specify input_dim\n",
    "classifier.add(Dense(units = 6, kernel_initializer = 'uniform', activation = 'relu'))"
   ]
  },
  {
   "cell_type": "code",
   "execution_count": 32,
   "metadata": {
    "collapsed": true
   },
   "outputs": [],
   "source": [
    "# Adding the output layer\n",
    "# units = 1 because we are only outputting one value\n",
    "# change our activation function to 'sigmoid'\n",
    "classifier.add(Dense(units = 1, kernel_initializer = 'uniform', activation = 'sigmoid'))"
   ]
  },
  {
   "cell_type": "code",
   "execution_count": 33,
   "metadata": {
    "collapsed": true
   },
   "outputs": [],
   "source": [
    "# Compiling the ANN\n",
    "# optimizer is the algorithm we wants to use to find the optimal set of weights. 'adam' = stochastic gradient descent\n",
    "# loss = 'binary_crossentropy' means our loss function is logarithmic w/ 2 categories\n",
    "# metrics = ['accuracy'] means we are using accuracy to evaluate our model\n",
    "classifier.compile(optimizer = 'adam', loss = 'binary_crossentropy', metrics = ['accuracy'])"
   ]
  },
  {
   "cell_type": "code",
   "execution_count": 34,
   "metadata": {},
   "outputs": [
    {
     "name": "stdout",
     "output_type": "stream",
     "text": [
      "Epoch 1/100\n",
      "8000/8000 [==============================] - 4s - loss: 0.4864 - acc: 0.7952     \n",
      "Epoch 2/100\n",
      "8000/8000 [==============================] - 3s - loss: 0.3913 - acc: 0.8366     \n",
      "Epoch 3/100\n",
      "8000/8000 [==============================] - 3s - loss: 0.3631 - acc: 0.8509     \n",
      "Epoch 4/100\n",
      "8000/8000 [==============================] - 3s - loss: 0.3536 - acc: 0.8575     \n",
      "Epoch 5/100\n",
      "8000/8000 [==============================] - 3s - loss: 0.3500 - acc: 0.8585     \n",
      "Epoch 6/100\n",
      "8000/8000 [==============================] - 4s - loss: 0.3479 - acc: 0.8600     \n",
      "Epoch 7/100\n",
      "8000/8000 [==============================] - 4s - loss: 0.3470 - acc: 0.8609     \n",
      "Epoch 8/100\n",
      "8000/8000 [==============================] - 3s - loss: 0.3465 - acc: 0.8617     \n",
      "Epoch 9/100\n",
      "8000/8000 [==============================] - 4s - loss: 0.3457 - acc: 0.8611     \n",
      "Epoch 10/100\n",
      "8000/8000 [==============================] - 3s - loss: 0.3451 - acc: 0.8601     \n",
      "Epoch 11/100\n",
      "8000/8000 [==============================] - 3s - loss: 0.3456 - acc: 0.8615     \n",
      "Epoch 12/100\n",
      "8000/8000 [==============================] - 3s - loss: 0.3447 - acc: 0.8592     \n",
      "Epoch 13/100\n",
      "8000/8000 [==============================] - 3s - loss: 0.3446 - acc: 0.8629     \n",
      "Epoch 14/100\n",
      "8000/8000 [==============================] - 3s - loss: 0.3440 - acc: 0.8607     \n",
      "Epoch 15/100\n",
      "8000/8000 [==============================] - 3s - loss: 0.3436 - acc: 0.8605     \n",
      "Epoch 16/100\n",
      "8000/8000 [==============================] - 3s - loss: 0.3433 - acc: 0.8617     \n",
      "Epoch 17/100\n",
      "8000/8000 [==============================] - 3s - loss: 0.3431 - acc: 0.8601     \n",
      "Epoch 18/100\n",
      "8000/8000 [==============================] - 3s - loss: 0.3434 - acc: 0.8574     \n",
      "Epoch 19/100\n",
      "8000/8000 [==============================] - 3s - loss: 0.3433 - acc: 0.8615     \n",
      "Epoch 20/100\n",
      "8000/8000 [==============================] - 3s - loss: 0.3422 - acc: 0.8610     \n",
      "Epoch 21/100\n",
      "8000/8000 [==============================] - 3s - loss: 0.3425 - acc: 0.8620     \n",
      "Epoch 22/100\n",
      "8000/8000 [==============================] - 3s - loss: 0.3424 - acc: 0.8622     \n",
      "Epoch 23/100\n",
      "8000/8000 [==============================] - 3s - loss: 0.3417 - acc: 0.8606     \n",
      "Epoch 24/100\n",
      "8000/8000 [==============================] - 4s - loss: 0.3419 - acc: 0.8627     \n",
      "Epoch 25/100\n",
      "8000/8000 [==============================] - 3s - loss: 0.3426 - acc: 0.8627     \n",
      "Epoch 26/100\n",
      "8000/8000 [==============================] - 3s - loss: 0.3419 - acc: 0.8614     \n",
      "Epoch 27/100\n",
      "8000/8000 [==============================] - 3s - loss: 0.3416 - acc: 0.8609     \n",
      "Epoch 28/100\n",
      "8000/8000 [==============================] - 3s - loss: 0.3413 - acc: 0.8615     \n",
      "Epoch 29/100\n",
      "8000/8000 [==============================] - 3s - loss: 0.3418 - acc: 0.8597     \n",
      "Epoch 30/100\n",
      "8000/8000 [==============================] - 3s - loss: 0.3414 - acc: 0.8630     \n",
      "Epoch 31/100\n",
      "8000/8000 [==============================] - 3s - loss: 0.3406 - acc: 0.8621     \n",
      "Epoch 32/100\n",
      "8000/8000 [==============================] - 3s - loss: 0.3412 - acc: 0.8619     \n",
      "Epoch 33/100\n",
      "8000/8000 [==============================] - 3s - loss: 0.3407 - acc: 0.8606     \n",
      "Epoch 34/100\n",
      "8000/8000 [==============================] - 3s - loss: 0.3405 - acc: 0.8620     \n",
      "Epoch 35/100\n",
      "8000/8000 [==============================] - 3s - loss: 0.3401 - acc: 0.8607     \n",
      "Epoch 36/100\n",
      "8000/8000 [==============================] - 3s - loss: 0.3395 - acc: 0.8619     \n",
      "Epoch 37/100\n",
      "8000/8000 [==============================] - 3s - loss: 0.3393 - acc: 0.8631     \n",
      "Epoch 38/100\n",
      "8000/8000 [==============================] - 3s - loss: 0.3400 - acc: 0.8617     \n",
      "Epoch 39/100\n",
      "8000/8000 [==============================] - 3s - loss: 0.3388 - acc: 0.8616     \n",
      "Epoch 40/100\n",
      "8000/8000 [==============================] - 3s - loss: 0.3393 - acc: 0.8622     \n",
      "Epoch 41/100\n",
      "8000/8000 [==============================] - 4s - loss: 0.3387 - acc: 0.8635     \n",
      "Epoch 42/100\n",
      "8000/8000 [==============================] - 3s - loss: 0.3381 - acc: 0.8637     \n",
      "Epoch 43/100\n",
      "8000/8000 [==============================] - 3s - loss: 0.3388 - acc: 0.8619     \n",
      "Epoch 44/100\n",
      "8000/8000 [==============================] - 3s - loss: 0.3382 - acc: 0.8621     \n",
      "Epoch 45/100\n",
      "8000/8000 [==============================] - 3s - loss: 0.3378 - acc: 0.8631     \n",
      "Epoch 46/100\n",
      "8000/8000 [==============================] - 3s - loss: 0.3374 - acc: 0.8634     \n",
      "Epoch 47/100\n",
      "8000/8000 [==============================] - 3s - loss: 0.3375 - acc: 0.8597     \n",
      "Epoch 48/100\n",
      "8000/8000 [==============================] - 3s - loss: 0.3377 - acc: 0.8616     \n",
      "Epoch 49/100\n",
      "8000/8000 [==============================] - 4s - loss: 0.3374 - acc: 0.8587     \n",
      "Epoch 50/100\n",
      "8000/8000 [==============================] - 3s - loss: 0.3373 - acc: 0.8635     \n",
      "Epoch 51/100\n",
      "8000/8000 [==============================] - 3s - loss: 0.3371 - acc: 0.8622     \n",
      "Epoch 52/100\n",
      "8000/8000 [==============================] - 3s - loss: 0.3375 - acc: 0.8614     \n",
      "Epoch 53/100\n",
      "8000/8000 [==============================] - 3s - loss: 0.3372 - acc: 0.8622     \n",
      "Epoch 54/100\n",
      "8000/8000 [==============================] - 3s - loss: 0.3370 - acc: 0.8634     \n",
      "Epoch 55/100\n",
      "8000/8000 [==============================] - 3s - loss: 0.3370 - acc: 0.8614     \n",
      "Epoch 56/100\n",
      "8000/8000 [==============================] - 3s - loss: 0.3371 - acc: 0.8626     \n",
      "Epoch 57/100\n",
      "8000/8000 [==============================] - 3s - loss: 0.3366 - acc: 0.8636     \n",
      "Epoch 58/100\n",
      "8000/8000 [==============================] - 3s - loss: 0.3366 - acc: 0.8622     \n",
      "Epoch 59/100\n",
      "8000/8000 [==============================] - 3s - loss: 0.3372 - acc: 0.8644     \n",
      "Epoch 60/100\n",
      "8000/8000 [==============================] - 3s - loss: 0.3367 - acc: 0.8626     \n",
      "Epoch 61/100\n",
      "8000/8000 [==============================] - 3s - loss: 0.3371 - acc: 0.8611     \n",
      "Epoch 62/100\n",
      "8000/8000 [==============================] - 3s - loss: 0.3364 - acc: 0.8599     \n",
      "Epoch 63/100\n",
      "8000/8000 [==============================] - 3s - loss: 0.3368 - acc: 0.8614     \n",
      "Epoch 64/100\n",
      "8000/8000 [==============================] - 3s - loss: 0.3364 - acc: 0.8622     \n",
      "Epoch 65/100\n",
      "8000/8000 [==============================] - 3s - loss: 0.3371 - acc: 0.8606     \n",
      "Epoch 66/100\n",
      "8000/8000 [==============================] - 3s - loss: 0.3365 - acc: 0.8622     \n",
      "Epoch 67/100\n",
      "8000/8000 [==============================] - 3s - loss: 0.3361 - acc: 0.8637     \n",
      "Epoch 68/100\n",
      "8000/8000 [==============================] - 3s - loss: 0.3360 - acc: 0.8629     \n",
      "Epoch 69/100\n",
      "8000/8000 [==============================] - 3s - loss: 0.3361 - acc: 0.8621     \n",
      "Epoch 70/100\n",
      "8000/8000 [==============================] - 3s - loss: 0.3360 - acc: 0.8630     \n",
      "Epoch 71/100\n",
      "8000/8000 [==============================] - 3s - loss: 0.3357 - acc: 0.8596     \n",
      "Epoch 72/100\n",
      "8000/8000 [==============================] - 3s - loss: 0.3360 - acc: 0.8619     \n",
      "Epoch 73/100\n",
      "8000/8000 [==============================] - 3s - loss: 0.3360 - acc: 0.8654     \n",
      "Epoch 74/100\n",
      "8000/8000 [==============================] - 4s - loss: 0.3358 - acc: 0.8620     \n",
      "Epoch 75/100\n",
      "8000/8000 [==============================] - 4s - loss: 0.3356 - acc: 0.8641     \n",
      "Epoch 76/100\n",
      "8000/8000 [==============================] - 4s - loss: 0.3357 - acc: 0.8622     \n",
      "Epoch 77/100\n",
      "8000/8000 [==============================] - 3s - loss: 0.3359 - acc: 0.8612     \n",
      "Epoch 78/100\n",
      "8000/8000 [==============================] - 3s - loss: 0.3352 - acc: 0.8632     \n",
      "Epoch 79/100\n",
      "8000/8000 [==============================] - 3s - loss: 0.3357 - acc: 0.8626     \n",
      "Epoch 80/100\n",
      "8000/8000 [==============================] - 4s - loss: 0.3353 - acc: 0.8644     \n",
      "Epoch 81/100\n",
      "8000/8000 [==============================] - 3s - loss: 0.3358 - acc: 0.8640     \n",
      "Epoch 82/100\n",
      "8000/8000 [==============================] - 3s - loss: 0.3352 - acc: 0.8634     \n",
      "Epoch 83/100\n",
      "8000/8000 [==============================] - 3s - loss: 0.3356 - acc: 0.8642     \n",
      "Epoch 84/100\n",
      "8000/8000 [==============================] - 3s - loss: 0.3350 - acc: 0.8625     \n",
      "Epoch 85/100\n",
      "8000/8000 [==============================] - 3s - loss: 0.3348 - acc: 0.8631     \n",
      "Epoch 86/100\n",
      "8000/8000 [==============================] - 3s - loss: 0.3349 - acc: 0.8617     \n",
      "Epoch 87/100\n"
     ]
    },
    {
     "name": "stdout",
     "output_type": "stream",
     "text": [
      "8000/8000 [==============================] - 3s - loss: 0.3344 - acc: 0.8619     \n",
      "Epoch 88/100\n",
      "8000/8000 [==============================] - 4s - loss: 0.3349 - acc: 0.8619     \n",
      "Epoch 89/100\n",
      "8000/8000 [==============================] - 3s - loss: 0.3343 - acc: 0.8614     \n",
      "Epoch 90/100\n",
      "8000/8000 [==============================] - 4s - loss: 0.3353 - acc: 0.8621     \n",
      "Epoch 91/100\n",
      "8000/8000 [==============================] - 4s - loss: 0.3342 - acc: 0.8634     \n",
      "Epoch 92/100\n",
      "8000/8000 [==============================] - 3s - loss: 0.3355 - acc: 0.8620     \n",
      "Epoch 93/100\n",
      "8000/8000 [==============================] - 4s - loss: 0.3345 - acc: 0.8620     \n",
      "Epoch 94/100\n",
      "8000/8000 [==============================] - 3s - loss: 0.3347 - acc: 0.8634     \n",
      "Epoch 95/100\n",
      "8000/8000 [==============================] - 3s - loss: 0.3352 - acc: 0.8636     \n",
      "Epoch 96/100\n",
      "8000/8000 [==============================] - 4s - loss: 0.3340 - acc: 0.8637     \n",
      "Epoch 97/100\n",
      "8000/8000 [==============================] - 4s - loss: 0.3346 - acc: 0.8644     \n",
      "Epoch 98/100\n",
      "8000/8000 [==============================] - 4s - loss: 0.3343 - acc: 0.8624     \n",
      "Epoch 99/100\n",
      "8000/8000 [==============================] - 4s - loss: 0.3340 - acc: 0.8641     \n",
      "Epoch 100/100\n",
      "8000/8000 [==============================] - 4s - loss: 0.3344 - acc: 0.8622     \n"
     ]
    },
    {
     "data": {
      "text/plain": [
       "<keras.callbacks.History at 0x117fc8750>"
      ]
     },
     "execution_count": 34,
     "metadata": {},
     "output_type": "execute_result"
    }
   ],
   "source": [
    "# Fitting the ANN to the Training set\n",
    "# batch_size is the number of observations before we update weights\n",
    "# epochs is the number of trials to fit model and update weights\n",
    "classifier.fit(X_train, y_train, batch_size = 10, epochs = 100)"
   ]
  },
  {
   "cell_type": "markdown",
   "metadata": {},
   "source": [
    "### Viewing Results"
   ]
  },
  {
   "cell_type": "code",
   "execution_count": 35,
   "metadata": {
    "collapsed": true
   },
   "outputs": [],
   "source": [
    "# Predicting the Test set results\n",
    "predictions = classifier.predict(X_test)\n",
    "# set threshold to 50%\n",
    "predictions = (predictions > 0.5)"
   ]
  },
  {
   "cell_type": "code",
   "execution_count": 37,
   "metadata": {},
   "outputs": [
    {
     "name": "stdout",
     "output_type": "stream",
     "text": [
      "[[1535   60]\n",
      " [ 212  193]]\n",
      "             precision    recall  f1-score   support\n",
      "\n",
      "          0       0.88      0.96      0.92      1595\n",
      "          1       0.76      0.48      0.59       405\n",
      "\n",
      "avg / total       0.86      0.86      0.85      2000\n",
      "\n"
     ]
    }
   ],
   "source": [
    "# Making the Confusion Matrix\n",
    "from sklearn.metrics import confusion_matrix, classification_report\n",
    "print(confusion_matrix(y_test,predictions))\n",
    "print(classification_report(y_test,predictions))"
   ]
  },
  {
   "cell_type": "markdown",
   "metadata": {},
   "source": [
    "Overall, not bad. We converged to an accuracy of around 86%. This means that our model is 86% accurate at predicting which customers are likely to leave the bank given certain information about them.\n",
    "\n",
    " - We accurately predicted 1535 that did not churn.\n",
    " - For 60 people who did churn, we falsely predicted that they did not.\n",
    " - For 212 people who did not churn, we falsely predicted they did.\n",
    " - We accurately predicted 193 people who did churn."
   ]
  },
  {
   "cell_type": "markdown",
   "metadata": {},
   "source": [
    "### Single Customer Prediction"
   ]
  },
  {
   "cell_type": "markdown",
   "metadata": {},
   "source": [
    "Let's predict whether the following person is likely to churn or not.\n",
    "\n",
    " - Geography: France\n",
    " - Credit Score: 600\n",
    " - Gender: Male\n",
    " - Age: 40 years old\n",
    " - Tenure: 3 years\n",
    " - Balance: 60000\n",
    " - Number of Products: 2\n",
    " - Does this customer have a credit card ? Yes\n",
    " - Is this customer an Active Member: Yes\n",
    " - Estimated Salary: 50000"
   ]
  },
  {
   "cell_type": "code",
   "execution_count": 38,
   "metadata": {
    "collapsed": true
   },
   "outputs": [],
   "source": [
    "new_customer = classifier.predict(sc.transform(np.array([[0.0, 0, 600, 1, 40, 3, 60000, 2, 1, 1, 50000]])))"
   ]
  },
  {
   "cell_type": "code",
   "execution_count": 41,
   "metadata": {},
   "outputs": [
    {
     "data": {
      "text/plain": [
       "array([[ 0.0182485]], dtype=float32)"
      ]
     },
     "execution_count": 41,
     "metadata": {},
     "output_type": "execute_result"
    }
   ],
   "source": [
    "new_customer# = (new_customer > 0.5)"
   ]
  },
  {
   "cell_type": "code",
   "execution_count": 42,
   "metadata": {},
   "outputs": [],
   "source": [
    "new_customer = (new_customer > 0.5)"
   ]
  },
  {
   "cell_type": "code",
   "execution_count": 44,
   "metadata": {},
   "outputs": [
    {
     "name": "stdout",
     "output_type": "stream",
     "text": [
      "[[False]]\n"
     ]
    }
   ],
   "source": [
    "print new_customer"
   ]
  },
  {
   "cell_type": "markdown",
   "metadata": {},
   "source": [
    "New Customer is not predicted to churn."
   ]
  }
 ],
 "metadata": {
  "kernelspec": {
   "display_name": "Python 2",
   "language": "python",
   "name": "python2"
  },
  "language_info": {
   "codemirror_mode": {
    "name": "ipython",
    "version": 2
   },
   "file_extension": ".py",
   "mimetype": "text/x-python",
   "name": "python",
   "nbconvert_exporter": "python",
   "pygments_lexer": "ipython2",
   "version": "2.7.13"
  }
 },
 "nbformat": 4,
 "nbformat_minor": 2
}
