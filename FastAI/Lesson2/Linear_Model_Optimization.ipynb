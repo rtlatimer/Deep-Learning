{
 "cells": [
  {
   "cell_type": "code",
   "execution_count": 1,
   "metadata": {
    "collapsed": true
   },
   "outputs": [],
   "source": [
    "%matplotlib inline\n",
    "import math,sys,os,numpy as np\n",
    "from numpy.random import random\n",
    "from matplotlib import pyplot as plt, rcParams, animation, rc\n",
    "from __future__ import print_function, division\n",
    "from ipywidgets import interact, interactive, fixed\n",
    "from ipywidgets.widgets import *"
   ]
  },
  {
   "cell_type": "code",
   "execution_count": 2,
   "metadata": {
    "collapsed": true
   },
   "outputs": [],
   "source": [
    "rc('animation', html='html5')\n",
    "rcParams['figure.figsize'] = 3,3\n",
    "%precision 4\n",
    "np.set_printoptions(precision=4, linewidth = 100)"
   ]
  },
  {
   "cell_type": "markdown",
   "metadata": {},
   "source": [
    "Let's create a function for the slope of a line."
   ]
  },
  {
   "cell_type": "code",
   "execution_count": 22,
   "metadata": {
    "collapsed": true
   },
   "outputs": [],
   "source": [
    "def lin(a,b,x):\n",
    "    # a = slope, b = y-int\n",
    "    return a * x + b"
   ]
  },
  {
   "cell_type": "code",
   "execution_count": 52,
   "metadata": {
    "collapsed": true
   },
   "outputs": [],
   "source": [
    "a = 3.  # slope\n",
    "b = 8.  # y-int"
   ]
  },
  {
   "cell_type": "code",
   "execution_count": 53,
   "metadata": {
    "collapsed": true
   },
   "outputs": [],
   "source": [
    "n=30\n",
    "x = random(n) # create 30 random points\n",
    "y = lin(a,b,x)"
   ]
  },
  {
   "cell_type": "code",
   "execution_count": 54,
   "metadata": {},
   "outputs": [
    {
     "data": {
      "text/plain": [
       "array([ 0.6205,  0.6712,  0.5619,  0.1791,  0.132 ,  0.1511,  0.882 ,  0.8212,  0.1963,  0.2334,\n",
       "        0.1475,  0.6099,  0.7508,  0.3892,  0.627 ,  0.4904,  0.968 ,  0.3337,  0.1804,  0.463 ,\n",
       "        0.0942,  0.976 ,  0.6484,  0.9443,  0.9371,  0.5765,  0.3195,  0.4003,  0.7735,  0.4476])"
      ]
     },
     "execution_count": 54,
     "metadata": {},
     "output_type": "execute_result"
    }
   ],
   "source": [
    "x"
   ]
  },
  {
   "cell_type": "code",
   "execution_count": 55,
   "metadata": {},
   "outputs": [
    {
     "data": {
      "text/plain": [
       "array([  9.8615,  10.0137,   9.6858,   8.5373,   8.396 ,   8.4532,  10.6461,  10.4636,   8.5888,\n",
       "         8.7001,   8.4424,   9.8298,  10.2523,   9.1677,   9.8811,   9.4712,  10.9039,   9.001 ,\n",
       "         8.5413,   9.3889,   8.2825,  10.9281,   9.9451,  10.8329,  10.8114,   9.7294,   8.9586,\n",
       "         9.2009,  10.3205,   9.3428])"
      ]
     },
     "execution_count": 55,
     "metadata": {},
     "output_type": "execute_result"
    }
   ],
   "source": [
    "y"
   ]
  },
  {
   "cell_type": "code",
   "execution_count": 56,
   "metadata": {},
   "outputs": [
    {
     "data": {
      "text/plain": [
       "<matplotlib.collections.PathCollection at 0x11875b410>"
      ]
     },
     "execution_count": 56,
     "metadata": {},
     "output_type": "execute_result"
    },
    {
     "data": {
      "image/png": "[encoded data removed]",
      "text/plain": [
       "<matplotlib.figure.Figure at 0x1186f34d0>"
      ]
     },
     "metadata": {},
     "output_type": "display_data"
    }
   ],
   "source": [
    "plt.scatter(x,y)"
   ]
  },
  {
   "cell_type": "code",
   "execution_count": 57,
   "metadata": {
    "collapsed": true
   },
   "outputs": [],
   "source": [
    "# sum of squared errors\n",
    "def sse(y,y_pred):\n",
    "    return ((y-y_pred)**2).sum()"
   ]
  },
  {
   "cell_type": "code",
   "execution_count": 58,
   "metadata": {
    "collapsed": true
   },
   "outputs": [],
   "source": [
    "# loss function\n",
    "def loss(y,a,b,x):\n",
    "    return sse(y, lin(a,b,x))"
   ]
  },
  {
   "cell_type": "code",
   "execution_count": 59,
   "metadata": {
    "collapsed": true
   },
   "outputs": [],
   "source": [
    "def avg_loss(y,a,b,x):\n",
    "    return np.sqrt(loss(y,a,b,x)/n)"
   ]
  },
  {
   "cell_type": "markdown",
   "metadata": {},
   "source": [
    "Now let's forget that we know the slope is 3 and y-intercept is 8."
   ]
  },
  {
   "cell_type": "code",
   "execution_count": 60,
   "metadata": {},
   "outputs": [
    {
     "data": {
      "text/plain": [
       "9.1380"
      ]
     },
     "execution_count": 60,
     "metadata": {},
     "output_type": "execute_result"
    }
   ],
   "source": [
    "# random guesses\n",
    "a_guess = -1. # slope\n",
    "b_guess = 1. # y-int\n",
    "avg_loss(y,a_guess,b_guess, x)"
   ]
  },
  {
   "cell_type": "markdown",
   "metadata": {},
   "source": [
    "Average loss with random guesses is 9.196 which is not very good.\n",
    "\n",
    "In order to create an optimizer, we need something that can make our weights a little bit better."
   ]
  },
  {
   "cell_type": "code",
   "execution_count": 61,
   "metadata": {
    "collapsed": true
   },
   "outputs": [],
   "source": [
    "lr = 0.01 # learning rate\n",
    "# d[(y-(a*x+b))**2,b] = 2 (b + a x - y)     = 2(y_pred - y)\n",
    "# d[(y-(a*x+b))**2,a] = 2x (b + a x - y)    = x * dy/db"
   ]
  },
  {
   "cell_type": "markdown",
   "metadata": {},
   "source": [
    "If you know the derivative of your loss function with respect to your weights, then all you need to do is update your weights by the opposite of that.\n",
    "\n",
    "The derivative is the thing that says as your weight changes, your output changes by this amount.\n",
    "\n",
    "Now we will create a function called *update* which is going to take our *a_guess* and our *b_guess* and make them a little bit better. To make them better, we calculate the derivative of our loss function with respect to **b** and the derivative of our loss function with respect to **a**."
   ]
  },
  {
   "cell_type": "code",
   "execution_count": 62,
   "metadata": {
    "collapsed": true
   },
   "outputs": [],
   "source": [
    "def upd():\n",
    "    global a_guess, b_guess\n",
    "    y_pred = lin(a_guess, b_guess, x)\n",
    "    \n",
    "    # derivative of y with respect to b\n",
    "    dydb = 2 * (y_pred - y)\n",
    "    \n",
    "    # derivative of y with respect to a\n",
    "    dyda = x * dydb\n",
    "    \n",
    "    # subtract a little bit from our a_guess\n",
    "    a_guess -= lr*dyda.mean()\n",
    "    b_guess -= lr*dydb.mean()"
   ]
  },
  {
   "cell_type": "code",
   "execution_count": 63,
   "metadata": {
    "collapsed": true
   },
   "outputs": [],
   "source": [
    "fig = plt.figure(dpi = 100, figsize = (5,4))\n",
    "plt.scatter(x,y)\n",
    "line, = plt.plot(x,lin(a_guess,b_guess,x))\n",
    "plt.close()"
   ]
  },
  {
   "cell_type": "code",
   "execution_count": 64,
   "metadata": {
    "collapsed": true
   },
   "outputs": [],
   "source": [
    "def animate(i):\n",
    "    line.set_ydata(lin(a_guess,b_guess,x))\n",
    "    for i in range(10):\n",
    "        upd()\n",
    "    return line,"
   ]
  },
  {
   "cell_type": "code",
   "execution_count": 65,
   "metadata": {},
   "outputs": [
    {
     "data": {
      "text/html": [
       "<video width=\"500\" height=\"400\" controls autoplay loop>\n",
       "  <source type=\"video/mp4\" src=\"data:video/mp4;base64,AAAAHGZ0eXBNNFYgAAACAGlzb21pc28yYXZjMQAAAAhmcmVlAABMqG1kYXQAAAKuBgX//6rcRem9\n",
       "5tlIt5Ys2CDZI+7veDI2NCAtIGNvcmUgMTQ4IHIyNzk1IGFhYTlhYTggLSBILjI2NC9NUEVHLTQg\n",
       "QVZDIGNvZGVjIC0gQ29weWxlZnQgMjAwMy0yMDE3IC0gaHR0cDovL3d3dy52aWRlb2xhbi5vcmcv\n",
       "eDI2NC5odG1sIC0gb3B0aW9uczogY2FiYWM9MSByZWY9MyBkZWJsb2NrPTE6MDowIGFuYWx5c2U9\n",
       "MHgzOjB4MTEzIG1lPWhleCBzdWJtZT03IHBzeT0xIHBzeV9yZD0xLjAwOjAuMDAgbWl4ZWRfcmVm\n",
       "PTEgbWVfcmFuZ2U9MTYgY2hyb21hX21lPTEgdHJlbGxpcz0xIDh4OGRjdD0xIGNxbT0wIGRlYWR6\n",
       "b25lPTIxLDExIGZhc3RfcHNraXA9MSBjaHJvbWFfcXBfb2Zmc2V0PS0yIHRocmVhZHM9NiBsb29r\n",
       "YWhlYWRfdGhyZWFkcz0xIHNsaWNlZF90aHJlYWRzPTAgbnI9MCBkZWNpbWF0ZT0xIGludGVybGFj\n",
       "ZWQ9MCBibHVyYXlfY29tcGF0PTAgY29uc3RyYWluZWRfaW50cmE9MCBiZnJhbWVzPTMgYl9weXJh\n",
       "bWlkPTIgYl9hZGFwdD0xIGJfYmlhcz0wIGRpcmVjdD0xIHdlaWdodGI9MSBvcGVuX2dvcD0wIHdl\n",
       "aWdodHA9MiBrZXlpbnQ9MjUwIGtleWludF9taW49MTAgc2NlbmVjdXQ9NDAgaW50cmFfcmVmcmVz\n",
       "aD0wIHJjX2xvb2thaGVhZD00MCByYz1jcmYgbWJ0cmVlPTEgY3JmPTIzLjAgcWNvbXA9MC42MCBx\n",
       "cG1pbj0wIHFwbWF4PTY5IHFwc3RlcD00IGlwX3JhdGlvPTEuNDAgYXE9MToxLjAwAIAAABJBZYiE\n",
       "AD///vdonwKbWkN6gOSVxSXbT4H/q2dwfI/pAwAAAwAAAwAkAvzHv6EHQzQgAABQic/gsldNQVEG\n",
       "rVWJETueZW6CveofCONurjKq1mcfZ0P89EfiowXffzerReILorurz0Hw00X7IHiVKxzwYDZD0QxJ\n",
       "mjjow9WXmubobDkAApf5am0cVd7niFS7NT8MIb2zPN3j7BETbIsen50rzJBxl+Z8MosELBwOmOfc\n",
       "prybUJSFoWZTDzaM088Wy0VjMdmSjMx1ldBqi0F0rGuShToowCoWv1PY4Grq+4YQBXpuhShYwLj2\n",
       "KfBDTI9+dZCp07yyc6oFDLJBjYL9Gxa8OMDcvpWtyFCKO/hMGrGpCkKhmV0lP+R8wJUMQLR5DCHX\n",
       "aSJqYa6Vwt03wvwRckZ6hzdeJRTNiAAMpYwQiBKtR1v0O6YgKYXVNJIzCbna4J7/FQU/OkUP5mFo\n",
       "g6GBuLPKbnhO+ddInKdirgNcmFRqm1KUWOZHs/Xv58kipn8E95dyf9+zGl7k2c5SQO9EGlzAmVGq\n",
       "ticcHv955KWnLYF0TK/vgo/Vbf6KDeapz0GX8bggOGLxSpEQjGaXYdm6+SF6Z3fF86vHODmkIiji\n",
       "bQQw0TsEsvDlfEfa2ffaLBMVCLKmT05IOduRUL2LIq3F/Ov03Wc3Q0rP4WU/Zgt36CLwz2zVbvzY\n",
       "b279/3KGSOoxd1JbkzpzlM88UJGS5jGspr2fi+x7Bsoq+3T2UeJFq9IwSIQnPtf9Y5SKhfn4fttl\n",
       "2H6m1NtgcUwrqpZTjfYaRfBHZlbW++ou1piwRvQ5LqMiyvHI1K6c2p/SnkWifJoxWLccwotFo+vx\n",
       "LxRb8LFf0L0WBu0fCD2fVZ0aXMLeSnZM8IsYJ3QYqA0pFizM9UEGM6ZPW3BXGkI3I3uXwGiGSgY5\n",
       "wJujfCWN2gv9xJtybJa5sWwSueBuHYBp3u0dnt1ES+2Ky9a5Xl4IW0cFR8sNQebkUoGSWtK0XHyX\n",
       "KLEKlf8LxpFd0C1N2jZMGPCZLCTT1hUO8As4hT7HWcfIBh418CbgQRD8Ps6p1bNHo+xFaDUiDQ6l\n",
       "CqAZ/a5cNIEsGsMWI2c9qrFtmNX1TgaMRPuwq5dRqk5t8WDuna6/8QduaIn8Za4VP4a3qea/E+iM\n",
       "fIHAX+WN4cYCJmN3qXoT5bL/dAUSMxW6PDIuTSQDHXZnY+MEX2ftdlhvoFc0nJOyCOgGKAFRtCbo\n",
       "uB0J0NQy/XYmDYl1sYnsOqEtdA/zcSFX4iCFiaWa3wAAasutPAjFRw066K2YCP8oTokjRDWD90dW\n",
       "pd296Zdx73q2BlJ2l5WUgjaL0htueYkkSI1Yb55oLYkHqAn/u+191aXdFXgng2FMWypmq52cae5u\n",
       "odNNUaaWDoRp1bB4YunCleoLlWpVk5XIiX2I4pvAiYwnLzV05ANXN8P8uYWfg19r13gYedMSwu+b\n",
       "jHvP0QiSyhtBYRJUF3oFlaLpNbjoFL9PoId2cqiynk3WqKXfQD1nnE9lhcMDX/LgQoxQl8/qX4f2\n",
       "G+IclhxF9hQPMQINrJktTSKPnm14gYzurtupRbVFGZGGmVCvmF6X290JATbX7pqKt+mumKLSxNiw\n",
       "p6vqgyF4ayXA6ZYaajmiqp+pTE28OVJ0PV1+jpvybktuJF8yjTMW+s3nqjub/tTqioEYWEUs3W01\n",
       "f5D1DBpd3+mXhWb/UUh8lCqIvDRguQqJocO3fud6GfyMtzVuJbgD32GbQYgDugWmTI7Af4+W1oNj\n",
       "ZPYjFY2DjgeZ+qmR1Ud5lV9jwmvkVAFvzMXrWGPIwO2Lkj35ZS895had9XEp9tI5LFhJMHUuqbH7\n",
       "AZbd54xoSJ6c1pmntEO8ZIJgJwcreBjDt00eyDts5V6dV/6ogapjWoGPHYHxfaqY4D6UGokVOHKV\n",
       "dDB9yN5xzyumRDYD5ACwOvJCVKoxcrw1Volu7a5fgieYr13OtF7hPVGpcL3Fd3VHnE6HjxL7R0gn\n",
       "oocNE14lQvLXNFL5xFZgbzi/KMAalhjUsgUSJS8J/3czYFyzCSK4YuqHsXvb6HiCocgwEMlspSCo\n",
       "3FLhEzVzOprEVH90lXLTg0fVztVrLFLhuHhIxFsfH9RhJLEhFkcx1BFPM9VVA6at1vXEX14KSEVS\n",
       "2MTgoQlRoRsxzlqMOk8QnIG7AkJ03dL6Ksw/jUyBLLoevHcoi63CVGtuFxVItbpGktgd0w75bXME\n",
       "9n2QYZphAVDhlES9UiJy4OSmI1rQYsdanv12iNQb6B6DfUGsqbFWp6bY1JymDfsD3S+Xr8e3hbq3\n",
       "AQo54ofqBrbGrHp2+Pa2BvsQR8Qj51OuxHZt1TBIM5XHUrvmOpMv9m8btqxLUAisZGP4fknIzbNx\n",
       "0kWVcBeXlOU/qI+AGRx8hhLVKbXOq4k6ZAnPjq6VVhhDE1xQvDn9MiY8FgmkeFyQWPDmOW/zpjQ0\n",
       "LdH7Advlnhuakf8/RA8FaCxQ1fa9ctQlAF0ZskT7mXuG9kvJneK0QVxEw6hJhCWeDjA0IaUc0iVq\n",
       "IZENWk1//XpsXk3IOfQaK9XPULtygN2gvS3OYsucWC7fHhjhU0neWICVkuWDpRbUCdJpgJQh4wvj\n",
       "w8CLYLx59WrhWGV86tXzCisi/DcTsu2MJyG44etI7WvucqE5D88/R3vLEnQmN8kOxvo79aNgOHU9\n",
       "EiEB+fsPw9073YIwqQ//pU6HGBUscHxAovTOuMuJL6yRG2xuEM73fe1zJHyBU+rG2Y8aOG5BafkX\n",
       "L8Z+z5Zf1yD21v98OjM06/aG4NYLHBsf08akfNNGMnyut0/39YDy5KASw1xZPYrOmBCsh4MhHra6\n",
       "z7HwqsLtzzgkPkuaEkZPejA5QBnPnJz8Dokmxhc0CX/WftomLmN7PHoFcUxIyevm7y+rXGAT2mDe\n",
       "FCSh406NZJYKDjdGwmF6iAf9ERMXCCzIF9dj++mUKbZcXTksAuyTgtjyVkCYz7Hau5r4w/I8ycZb\n",
       "87DWWWzEGSzHWePJGNT+B0aoNRYAd26onzOMx+Jb+MrvvaJ9+3c6qFtn/b1CStWcmhC+Bw1VtoRh\n",
       "ugGFquFexk7JEtYsxyFaQ7iZMcAsnhjBucs/EjrIxD1CEIU5iMPN4+631g27/EBPSdmxMTTOTo7u\n",
       "toJPI+NwACrZg4nIcghJ9QDunZ56mNYN7mOwsvJ+1d8J7s4vlAAHh13mjud0qZO9YqBy5sSiw07U\n",
       "5H2411UTWiGrIPHVRCNEdKDNGg389Fr43dKh1JNIqLt0j2pOKaA3UZ1CCzFpkDRP+TEQ/rOCAVB9\n",
       "e7ocN9nTy3hSKkFsix+ATRkQpBtee+8Hs13rk+Q1CT5022CIxlgZ1kShDF1Sg9IyBXm/YGr9mtjR\n",
       "rNEEfVn0p8STOKZgUKeBsgBjcYtUQLakEUMzD/cYSrvIZ5nRfSnlmvLU6uCyzEHGQk9ugOjxrOxy\n",
       "rwLmPY2rGMyx5as1VIEUihqmxgQ/AdM9zuArvPKtG7uEsn/nTMqphNJ0ksuE5w6fjZ7DfhKUKjnX\n",
       "Wp9igo9HNjnUlpjDxfGnbWZ8CMBZPP/QZ0rXD4isIjxlrszowxWO65XDSrMFJHqF0UQFCqHORV+F\n",
       "/X+amWji7aMjAwfqHRPLCVrUq+C2960WkLDGVQCSLlpx1S+MI3UFpbVEHm1ImT8FZuVjzI3auQAU\n",
       "j80/omI/DEqDfiXz6ZtmWdZ2Qgbi+/DAh+kZf4MzPilxvuv2GCAy3RcOfKcnEYDM9L8CoqZf2+JU\n",
       "Y/vpW1+ErQAG4c8L8QhQAXJBLxMFPVrVZzvH0XLZC52nDOZ89fLgbXZ87mbDxQYi92LrDuTQiq69\n",
       "nfKO3o7jRCNIwaPbNP58jHxefiLBHbNvpRnI3hXJ7p+deedeiheqIzFa+KkqZPQzCPrrEKkQWTce\n",
       "L1L87xsr9QubxeNq/kO9xvg+di023DKuDnZLo9OgGePzn8A5yI58iLvf4Sr4KRYMY7Aju6YzHYIu\n",
       "qYGYrQ40j24an1yG9wFdUqqzHKSsXNobiurrOdQkXuscz6lR/i3/bIUuNcvaBsXehM31QFp7Nv3n\n",
       "GhIwWiVWjZs1kLgrG9NDNgC6pmoKGj/94/4aJealItqAbbKHXW56GukUlX1yMtXHY8EqSPZt+26p\n",
       "3VI8VHpuvOQvfrU0qe8R7630e03SvGpz2ZJv/sO/S//6i+n7fkfQezzIwM4wTGE783FpN2nEzcSf\n",
       "De5vfTOTc3XC/QJc+POlttocdJjW96WVjZHP2KqfdDnJ0+kDm1CUiapkLa7jvVuo0pk8WWNiAENp\n",
       "DCD9yN+CNcj+ghKi7OJubBPY8ninr1L6uMPJElRq9NLI98aYEc+Ch6xFJe+/ui+VcrA46ua8LwfA\n",
       "XcI9X3Yc98ya4jfujK4Thcuxbx6JUpFdarssLXVU4Vwj2cHYlTjRirFZqhAXG9pQssMwsp8ndSzQ\n",
       "tfqeMr3w/NWYcWwW1e9RXOvpUA3utsMqDMdX/UJ1MyJIfRvs4V/VoAQ+MgC7hToslH+1Cvg6cTDW\n",
       "/6H7gMP0cbYHP+HxtLIOOUKIMlW/IjSEcnHw5Viq6/AF70k0RAAB0EAFBOUVzq/oLVrCo0zYiafn\n",
       "q9jqXqNv6gigAsry2qiBumlgvRDQ3oKqtbfC2jgF66NcruqRxlh58bPz9h/QrRI/Uim2/VZiywuh\n",
       "Dr5Rbv6bHhXReA5HYuGPGQlQ5L1p1oNpOLOAIOmuf6sUJaTNUlz8p6B9tO5bi46Ae+DiX2xgBn9I\n",
       "AlEY17sv1kcejPGh+dm3PI/+dYgDuMeF4p58nqMg5PFITfy383MuA8lxODe3tQBKm6jzuC4WfFgt\n",
       "2pY7ldlS/U775mkICrdBntUVGur2t7RPQ8AT7wNE0FvQvLwUQrPJq2cMYkuiSTakswX58WvvKYW4\n",
       "Hb+6HaLrGkDLx7FLwj2j/xB7yQfHlEwlTiBRpLwdREw6Pzh24+x4SB2U9T3VIUPraOjmS+Jl09GD\n",
       "fWcimiPBsXQDkkaRB73a1qeAmrZFBg8oZQSKWeVYC2lLGAX25j7Z6tOD3Zfgs1V9w9LeZBc/U6jS\n",
       "Zm4W3aqvvh+MkzS7/LXDE5RijOpC4GNIttYDnId9MR8k6Dy1Ta0pqgo7CEcf2x+6T2SMLWLudNNm\n",
       "fmJo+kbmXyeSHhNYuRpk6eRoWs8Iwhnwlk0biaorf4iWcpksAZ5oK6gyXWQge2ta/CqT5sr7/n3Q\n",
       "wMzG6m3Aw2de0+jP0BruBYrIEKwSzdLL0AUO788mt4O/LfnYt7F+d+3yWdImFy7atDNM60KlN1VH\n",
       "lBw0UV7IqvTjb0en/PWK+o95TISqIiwrA2HdKFtMwzJ/0e70+LRbczUTfCGin/1+yEk169KjERCj\n",
       "RZvvZW2N6vOnbGxS1hEKEn22gdF1Hjdh2sQNalNQcpHPLKwa1qieyWWkYFeYQuFJRirRrlFAE/Mb\n",
       "yVH3K7tha5W01yQDVq7XQX4QZ3rSajQUxq2SivRM1rK6ZYqKrX5VKvSZa+4NkbFiZ7kPGTGeEIiA\n",
       "juVrWYE2FenqGuPbDNfRIIjF9XGeaIUi5YAxzjIXy64eYRRhUTWeGDewEcbFYwWBSPl2enAkZk68\n",
       "4ftxy0uD+8MoHBwromdieKC9LS1FgBZ3rrJCsIfagcqy7ZVWNS2JLJS37/9zMIc51b+dehsdNHc3\n",
       "pUjivjz6sCc+7trF3ZI7dIrHZATjvOdy0327GswZhIXEqPTIQfE8n7ddg57v/n2t16uhAojR3doq\n",
       "InU3xUAHs7WI/8KOcLzQisOoKMb8G8kfGYASsW3oQfgBMoA8UIC23rMMadJf5eBYjknwh3afcwee\n",
       "l1Q4b001uNqrD2XBp33BGv07O8ndjfJ+Kb2WxnIHg3lXrcdoj0I+9zFFlqemyLU4f91ERRasHwLp\n",
       "3Oexq8uEBHak0dBCA28S0wv+YLnZb7pbn23bgGfpFAjUyr0UBvs8Tumiz/BDu28rQvQJkKb4Trj8\n",
       "a41Xlvq26UrcTfp6I4PiGIzwpPjKAwZuLhrNWZUk9x4rpRgqWs/8mMnz5cAuLoCs0+9p4xU+uock\n",
       "gw0BZypMthoto0v3ud8wxvlE41MgjmqfYDZPVUuqX7PLq4JKpUxPKX7hzxxMwsmO4IYbiO+9r1RJ\n",
       "Ph84uH8uJtyJUSD+Atn23bgIKEZD0Wj9Eove+lNIFDitgq9eApNJYTcErqUkY78TRLXui3JEICoT\n",
       "gs2gdJ8AhKap1pG9mNWfY/hiteMiTgsARGVpIyTTT+6sm1nDvCH+60asAM/yQy4AAAMAD9kAAAHw\n",
       "QZohbEP//qmWACuBz6AhUhRzaS4RA6YQpZksh8lwvn4Dobg+jUwgg8epZ49xXXMItCAauCHpEfkd\n",
       "r5zCcy7fKysxmlacvdWuroTd3f3BwyHCbwPUVks9B0Z0sZaslkIjx//9gMkrwJjYwSkuiMstKEQK\n",
       "Hfas3qIpYKP5tvoXWeiPZBmqAkRukpOhVBkblQg8qaxXIPFThX31eTHDu5f23iI/jp1tSHeWr7zi\n",
       "cwKHba/fZPv6HKO44KLxzRqxeGdjqD50GLF37Uknjc64z4aEId8R6jdoZ9aewPhbepmOHHx3L8a3\n",
       "bAc0sM4Nn2KeyOUF9v5wFrh6P+XPHIfNAecYnLxV3Myn1YwFU/3vZFX9IYB+Q7eBJ6t89wxtlRm+\n",
       "ltYiG6auAUu2wFLu+EI7dggH5Neu3/+Jqu0ZISQ/GZSlAAdo/PO7aqnlb1jYvTE9yjLmOrN1NGYJ\n",
       "vWf+2LmH/eyO5DgmfTem0NiIp9tgQ0DoJSKrwjI4dDogigV1cB7dSAc8K3wLwxzwyECIVOm/Cg/T\n",
       "/dolCauTlSOMRe/oAxcOHfZHwVZ/gTHWYA7YoFaJGiWWFyBXKHpoWxJj5ieFAIg6nhi/HNPsyoGJ\n",
       "hbgAAAMAAAUYAAADAMc5YD5cLEkTNoPlpyp8SrNt8S/dAQY3tgJfjgAAAxZBmkI8IZMphD///qmW\n",
       "AAAQnlf+EcrEAC6UDB49wsExFax3KgZoPHCHFtiucQtBwf10Ib20qZnpetimQ+erTHDpCwzX1w4x\n",
       "5xbZqArPBRSGfclEsZIs3q3n2z7SiOi9AUb2wr5EXH1qEPh0penpMnz5xGSBtGYsvFjXSbXi8FHK\n",
       "32t1kH9RHJDUfBvnlPQHq6FABWTNLA0wmOx99hEQuaNkIinTEjLxKJ+5xsXjSQthNpcVhqUJAdhB\n",
       "03gk9O0wimdzBNnIh9CEQJlFrydfh9/9k+vvjfO0LwBB1ynaRiCUGmHjDqwfCvpsLOfK4/DhiiV6\n",
       "jiT2XMucAW//Merf1UpcQcSlDQ9hencQ25fk2/Sjg5PIBnxoBh/AaqSyCCofqZeeovxHI8+ArmXP\n",
       "MyX1D8os14U3aoZpzhgdIj7ok5BCHgIOJxX2eSevwBskCnueme5OwEPh+niwtIaNe6V364Je/BFG\n",
       "RtvMOQFQCDwOS0NXF8tS7Lue3flkGVN578f3wogHTC2WD35zQBxrxKHovb3PIc0yP2W/FuQqXVcr\n",
       "X6Zje3lUgF+WAEccuiKAR30VQk2Mvm/pb2BX8iH6/3ktEZ1nZcMx7AhE2W08935ACwtVDk/t/0Nl\n",
       "kdGEVX6UAm55ZIQ0oxkkFTx2T41ass6btWDsYUqierLMoq1ylDnurEMG1j48Szr5/3WzD9jDE0V7\n",
       "x/CFfvyO26nn5QuuG0V+cdYzwbo4TVmIEa+lKqKqp8i8g4/PWKcORJT2MZmaAg839Sfzzik8aD/S\n",
       "9qcfaiZWjZQJE3h7MZvKk/1pqTESCVEXfSqQb4f9ZyTTzfHsWwTHiGtjzYErJYf4w64LFnN+/leC\n",
       "J4Iev1G91bq8xn0HB+SXlRDyTvyAprDmT2PZRYI6p83Mn+cV5raazrIiRKt8pxDX14K9lFXTNYb3\n",
       "VY36brl11x+GX6otOOlHhaYM8tvaTWIogorm0jRqsSCTzyNrL7II1QBo++1jMqSLuiAOW6S2O92x\n",
       "dk3firo7ICOfAMYnODVhA/EQXHYNDyAGtRQxQdugDNJcAMCBAAAD5EGaY0nhDyZTAh///qmWAABQ\n",
       "uFvwTt8AIyuwHZoRH36L+KzaJjXDnXsmDMkdoQUEJoAoTZHg1KRaJ9sPYaDeQzFkh1mmbZc5NEZH\n",
       "I/yYN963BCaMiWGpIIaKnW0O+d7tIUeKvWpf9zysu4w9bGtAWbko53+QFs06CgDY33UnrWPBQz8K\n",
       "YYAExtrfEZBgUNlLde1xTd/d2I7D8ai+QjjeL7ed+7Yo4x2FQC3DkRiVRrDrQGpFen8XXDGa+vaZ\n",
       "mehh1d8l/C8Ljr4y2RrhQQ9MuT36K/11Lt3+N+tfaJ8VqxKo6v/vKfxm2XW44FiOOCfd+FC7lr6b\n",
       "TYNWbK8lSvhkitRbZUbaCGc6u/rEk0qO6Whi0C7JEL5orWG31n0ac1oFaut5AC/ndGawrXqaMzKa\n",
       "Sq4SzrxaN1/lNMzOhJ5+41NzkFlYoAaBPmD1MwE4e6uQNkrWvGBe+AtwRZXNY4k5fElLS9uxtfra\n",
       "ePCoUJnoDKDFPbkW5oS1x1URNMIkoysgd/s+50QEbOoc0ZzclaW+C+7Pm08hGUAjj7TuwqtmsXFa\n",
       "BAJBpPSpRm23rlNRjPvQ19kHMM34BIe2/gNVchsW1RwIEDw2glmaOeHSx5y2WbZ/4/zly3Z9mCfH\n",
       "Z2dWGcjvvAaweVCEYsfsL8wwdNDTqXplI0BGklWiFCQ3+HHYdeLG3Mvasxg7zDADh8eSzk+EFu1Y\n",
       "lQcGNt0KG76K+O0158cCJ4NBBr3rT6HYLERR3eMb3WSW8YT12EbGjYXrkiIeWwu5Yh9O6PRAKsm2\n",
       "JmWF7/yiUV1UE8ygBqiRP846NgeI9kGRfJ4eWU9VguFtOcKC82edG2Mw6WFXm9OhuAw2S2KZR1up\n",
       "nHaOOcwj9vdljE4HgZv/QJ5cT+w5UPVBJDce3wyZNZUJ4klCGltFntm4KaAz65Lpse9jrmOVAI1E\n",
       "nuK94iYtN1pkshuS+VGKZnpUnDvQmjd543BHLH8aLpDoo1yXwofZjph2EPDW7L/xpay/HGYDQ2Rs\n",
       "f3gj29l6kQO0ZBvq2xBpKA6qQy9Z8kKdg/5jPF69SjhdE6wUzSU0hFpjdJDPuaTy35W2ntSgcQpE\n",
       "0IAOhWnTiSNK/YZZF4pemtg3EAZ3gG+W7lCTFTpdii6anQvTwFUe+hdssjbbVV1X/ax7vvI9qBl5\n",
       "87Me57oLm8wwJZ7QZ877s5uVtTyE67VliLzHwyueVpH+mmVgNb3xN+r3261S5KqtZgpUWbXsCsjc\n",
       "HYC02CCfOpUxIr+XBl6iRgMOxnwvIqntRd4u4gjpeHZ9T30NNi+ni+SnrXGCUAgCZCQz2MAAQMta\n",
       "ABUajDVMsAC2gAAAAbpBmoRJ4Q8mUwIIf/6qVQAAMpQm8AE7fPgar3MGXUthdC8waSCrBov/N2EI\n",
       "ji6JBAqDO3gsepZ3g2UQXHxmDzaxtXya0HjyvdZIchANWniKdjPSW1KqnL06JL1Abx+FU9JsmrCc\n",
       "JNQgdbrTfL2oLUWr6RQv5na3EkAd1PkyrZHBTvuzZ8ZSK5YGtrc3a8i4cqgBB7laLSna/6lQeYXm\n",
       "myhbPUnxc34yMUCR9OAwQo1w6fEsh2Dknv83WH0h6fBeFjygbpqjW5CcjmNNGBzxS+h6/e6kCPK8\n",
       "qX7LARu74qN4OrtNrM2u7XsdbOiUtODlK4H3sTSDRxnOAiS6qeZkGCxczaLEIgg8CJxSkYLDDBic\n",
       "uZcaG6fut927xqKAzZupyECw8qJQcgtFCsL5SmZUwDQWLJvMc+r8dN5AGjchq57NJSziNDJVLKNE\n",
       "jvAzMnQhh4pA4kQwhJ9yDgDzy3YIiEBu2kw0cMcMk1Elf/Cj1X/iMhU4qT33ve6sFZMOXsFob0HS\n",
       "dcHfAqgw3a3DKsURP1tRyAZzcFnVzLW6cOSwjMJt7t0NjFLBLNOUG+1ohfyuvI+0AAADAS3MsIeB\n",
       "AAACBEGapUnhDyZTAgh//qpVAABydpfwTuUAF1XnJUC3amApJSpxrQAdgjvImbpMD1SKRvBywdmm\n",
       "zkrfYOm/G5Gu7rKg2KOIFK2usS+NL9seZKaoLDL+2Szb2Tm4yy0KrHBjvDEE1XpjnvN5uNQ52M4J\n",
       "7breNHlBB/E/Qn52u9J1ZG7hwAWn+NbZDTJYQVoLV2jA3hlhyZQoht+93Efk3XfY4vx8N8dWARl3\n",
       "QBPNVdzs6j+EwuCHTsv7BY3b74W2gEOcRRbn2wUsIpIRFFF52675jPHHVLo+DzMRE53QkTLO8Bjs\n",
       "hzF6WsyarUFocMSrtzIqJeGonAFLmD/oyRmdDDbBAPEp6alJk+amvTQ/rqiUyOWovAuRc8EUCZHc\n",
       "hmdPNfSoJd4wKmI235c4AfD9Js7Td53CiheqxAE1Gpi2QDV0ZdHEF4FDsPOPpm/LfJsbxbw1thJx\n",
       "4XgkzfBnh7HHtaurRqMJ5phDXNXlOP7pt9rRaN6K6bU8JzGPgjmVBdZ89SLkegQuYovhpdmdePfr\n",
       "odnOZfpkCyecwu4gorFPLvygTyo/3o++1qM9A+wk6I7mJF12G50pvXC0qn13NFta8uPW4WAub3As\n",
       "gSFHLCWN6fqmpoxEK7etRoUX06cEklJFa3gcrwuRzgeNEEVqMeP3lME0nMOMxmD4VMbU23XCQeoo\n",
       "E+AAzrlhcQAAAf1BmsZJ4Q8mUwIIf/6qVQAA9BgsLBoYgAB2kkCItAEsu/gMwlQsuBfFzocX5H59\n",
       "fa0DpEswasEYdhavgLbGY+9Gp43D0WiCriUzA35ErcNPrcgamjCwRvfC/x5Zi3kxhOSccp5Yzp2y\n",
       "urpGkTToMup02hS91zoOWRaqPDMcYYsk2OqjuyUp7hZ95zr+Qn3VeJAn4gJ5EtArwqs9grucs3K4\n",
       "dfBSZBtCkY4UnJy6CmTejBhhsZJfNPKCz4kb51CJF3cVEup7f6kp3zI7lWSGgDUybbUrPvGwwEoq\n",
       "HDnMINYVfXAI7GZA0d8qgUr4/46hlUiS870+hJ2/GvD++PRiFzePUBVtuoKTFh2nwZY5jRQTqcUm\n",
       "k5lzenCa/y8IXwPFbGuJ0MWuxx/xal5GUAew6bbt1zyOkJ/lj9G4mrsMuVIWZHSW5QNh8n8mMS9r\n",
       "eCqrNmG5FkJ0obeopo3WlQZOQa3cPz+Gbdh0BO5sfbtelF/NH8GYpCIMLhdeZkXp+LW2RbJaxUuc\n",
       "OoL34nTaIWOBDNnFQbJPEaejb78QIA68vc+RTLVrcuRW2z4geFS8J9WZRvkQxXA5fLKLWUQtrCFX\n",
       "guqacuBZWNPoYCJ43HRCS0SWNMSo28yD2TsZR8mcYhPmW/+goLEPgTRKPG6fmDgcLTlKHsZxRbcR\n",
       "FEkrvR4RgQAAAkJBmuhJ4Q8mUwURPBH//rUqgAEgbqWAFb+lZXnjasU3y1tJfH02mJPz8rIuz9mX\n",
       "P/zcJHIKMLTy7MTqXESWC5UGPzPRivW3PaMLGjKLv22CoQquYLFnKBCTe7DGnaQOZzV2gVMY8BwH\n",
       "+i+4siSIGivCIBJeODHcQRXeDFK3avhQa76X/zmxghbmM9AZ2W6P98SzzGZrRoClUTbCNwfaE0oY\n",
       "GHcrzbH9aEfyaPL6bwUw55VPTyqn6OunWw8abbOVZixDyi1hiaYV6d3mgLfsFiAj4UWeirGUgMjO\n",
       "7x6PwbDSFPJ7BXGLZT7C5awQiPCihWOfT7p5wBymWMbo5R/e/w+uht1YU/UF5syBTrBYQg/0HU5Y\n",
       "RlXBKYQPF6nhTPyD6s7ZEDAg5BaBi5ov95V6Ikezx9yL3x6K6gAMnkYBK8Hrh5p7OTejy+GVDiko\n",
       "9W8HB/w/A+D5IrGqtcZbEq1+wU0LwhXve9SfP/EouPKxxxCrTHlH5j9cY7DYlsdmKd64mRfGQdwG\n",
       "5R9ts+jERG+x62MhQLm36YkrJ4AsqVg1nFXr7Wo6fLdxELiXKuxGbEZj0Ixkd9Yzqp8n45Z8KJO8\n",
       "UcOm5Ck/0kvCLElqYv6K8gEhl+0VvRJ8YN+VlqPqQdPcGxueVzpXT7Z7xgo2j15keTyYd/9GFE3q\n",
       "Z6Hv0uTBQIfyrFklWI4idlFG+90Fyujh8srXhCEHe3DZvJuBRnALD862229UWXsYxxlxKsYus7KA\n",
       "7Q1jtC0Rr/v1DNy9oAADuvhB3QAAAMABnwdqQ38ABki6TEFdornFoVJM0OUVB5VTCx2KHo25Sal0\n",
       "DoxwxkiPZrflvLowUMd7B4ASiG+2OsLu1tdsbp+kHM8Ea2vWYlNdC0UYGyG8MN5jnxOBtywnnY0o\n",
       "xw3F50N2LAmiidEbnxNql/oiVHc9M52omPNF30FDIb/47VCey14QXp6CElaJZHBxBkG1swJ9gYzT\n",
       "Ml0TyzGab2D0eP4KZY/cCXgey4/x/oKjtTxRgkY68zoKfvje6/UnJTEAHzAAAASfQZsMSeEPJlMC\n",
       "CH/+qlUABSfHwAAaNr73pfjtxyqf5OOLXjmDnzQ9q5IiApukl2LYffHp+WB2EMkjl3xxZ76dMS2u\n",
       "083FPYp+XW9RHDk+axXKe9dDSyvO5P2uEFlSgmgwr7XHHb4NcRANkUoCWiiLMZUiQh5/Y9R/NQvu\n",
       "B1BARu9hyIFyNoYN+sPWoV1LPjOUnNB1F750CzQlO+OBMNcQvUNnGEAjzJYOo4MSLVGGTQ616vg3\n",
       "7FdriJkiw2LzfO9wrR5JvO7u4WzL8+CUBiBt8Yq4Ec5C73pU86lCKzBsaTaxBg9u/szbmPHkBIqT\n",
       "qSiLeVli1Hljfgzhe+Bh6La6UhCKikSeSvPWEZ8Py1TfliXeb4UbMOTsgxEp8P4yygxoxkanTNJd\n",
       "KBH54fYs6ZcewuIZbMZbWcFFwqcsMXNTJmjLM0WHTajr/RFIbjhDtYStDslff6IUqH6Es+OcQC2h\n",
       "ayBw9O7uBlQvhotwBm10vWZhHn49rkmItPhItTopu8/jzJCPiHrg4xJXwJlB6Lj8eQZv4RI//eyw\n",
       "7nk41bw3adjW8kbS7TdQKTg913hfON/jI5WpzGaXu2DaC+QrVkizaNBK5Wv09QW3me7wcmfD0Xkp\n",
       "cpx1FnjM5spshDf86k5MgO7eOh7aokKkX4J+xw5SgwY9c6CXLPTx9JU0XfKKZE5cmaA+BMEScUZ2\n",
       "4s2V2BMfxIHs8loQaD6KlQXLWesdOAyYkCExfmEU2rHdm7X7oiFAeac25EidKEWjDWhGxjwrbUeU\n",
       "VOYVbyYE/jZorAUYF7fddJQJFzdzwepyNzrXLyhStITciwPPY/itTSJjil93prmDZ4alFzAhHD97\n",
       "30Ul+RrH+LteFLTW4tAx8WvzVYFRcvsFFpHUkZPxhAWibWr34AKOFbuVqhbckB12OH8B76d2dDuk\n",
       "H1LSzpobhzCdmDbrzsRCvPv1N778HjKAJJ9ryfkAdO71zURfu1O82eUKbomcqlyrer2fUcCCCvi8\n",
       "o9VMIlCu9kYQ3aeBQy3Wj5zOF0mgYfWP221pvD4oj03FQAzAXk+2VPOa+cezXy/64FwrMwkV163F\n",
       "XnyZ55vQrn3LMuaViLtXu/Cmz8SbxGjf/HM+8yTzecK4aMmva0jHDhqG3r2MW1tgt1+Xn+x26Yo2\n",
       "SFCaHh60yrQBselyTwGbpikNSsvE+j2vOaHNtm0pGB8PmPMgabuCvhUUb8gpkeZ3Y7DYy1t2Fua+\n",
       "QGrvfYXzd4BQAM9Ock78jeJ23/tbqRhXe9bb2JRAqNLqHiEcvsr06Un0k0PhCixPEWnt0VwX3Jbh\n",
       "3+V/OiM2WHgKmZEmcg+Xbo0aU69LM9akS0nA6mzvIS9tebYf3BIjEK3GYEoVhY3q32r9zlpwCN+C\n",
       "enF7xrt0em2AWRj/u2qQKy1Iya9i7xG87B2Bg7+sjjND2zENngoOwOT0r6n5jAMUkP/4AqtWCstC\n",
       "Q+vWLeMG8kPLuW0bTlZnZSQeOh6WxJl4CnbH6Ggk/z+vW2iXftS8V3MjjirW5ajuabBxgPeMMmOP\n",
       "pbNjYAi7WvzLFv9jNA/VoF6Cv8Ukj7FoYTAALHPYVMsP8AAAAZdBnypFETw7/wALVjB/crNvLOkA\n",
       "WnJFHUgA2i8Q9t8duYytENa02PhRk03NtGPISdY/4ckWee4Q2hLAE6tkXFij7TK+2kobMV2i9RsS\n",
       "sFKbpp6N7RCW2jTS9Qz9cgbwgaZmay9wgEyxH14I5LASp0AN0lnvW6kYfqMYDzEMQxSyfClI6LGG\n",
       "9zWffjIVWzfNmUXwPGZLrePskcM1Pu1ubumX9zgl3oPllnxKWyLsUMm91QMGgwGja9M27GWyJroa\n",
       "U2pkZLIaZ8sekeSf9xrSetNLInPjBUoDGMfDewS5wuVCktTJ4bUMCUIU6z8/KsIQC52hDEiEYs2i\n",
       "UhX6UZlXXyHg57boQQPVijKk/DlRDEtkulOwQecu8RyuC7bvqirKpz/oP5QwrP4EYnYuue69QmBw\n",
       "5VzSpPL/X+2SPXc6GzxEIdJiX6zpvacQ1ZXj/F//yuWnqmcLesmHwMLRfV5IQeQIh6J+YJtsvfQK\n",
       "1ld1p/BzroEsHc2/F52E5JkXlZMfW8aG1+d3NQf9Pz0JLT9ZSgi5CnIiEpYNuQAAAKgBn0l0Q38A\n",
       "D96fpB3gFe1kmFFEZfT9spe3jU+owQ7j8rhJZg2/KuEvURe9Q0Y2tcUz7LbDqulbri/Y3RWk0DwS\n",
       "9RZaf9NoatgnQprFI2YlMndQj/Jgx2H9zijnmmNKAAS/GDP9nVIeUlSWR2YItsaSlcw+CoriS/ug\n",
       "ctrz5sQcheHY7FFAIGfWmKXp8F5YdPUYK7SNcnw4rh2y13YJzSPdFDN+ElUAUEAAAAG9AZ9LakN/\n",
       "AA/hRfwOeOBACE6z6XcpPbPtrHcGbsB/j7/LrQYBRnOQJVEY3YBI/71SXSFW+GiUDLFY7IpbVL9K\n",
       "CveawYj533/2rXwxQqZzvFO57sgqqAam0xuUTdxWiOBjCDHJAtbCdMRdp8nY6OZ5lT5k5TS50zb6\n",
       "2JaemSVkNiXyVlg8U/xXlpbaZa7WpewS3hZixXTVrIyHkS9DSuRNAUkuDkARsXWH3sIWHtzvEz86\n",
       "coa1LJ5TeTX4wVuTvnPWXlGMbPU3GSsUtfaZ/+ioXXcyV+xwMIOmLmW4d93gFZ8UhOuOP2pKEnM+\n",
       "1Og1sHnXdkOPgGs2zpX6GTN0WR1Vx3rL3JalJ31RCUcguFtP9pY8GShEHqVTW87N8uvqvxpfezmO\n",
       "pu2yt4exH906KnOPt3GqrFsOZPlkYQ0OLdot7Q6FEp9qa5w49vy8gbgccwUVs60mbTzJoCpAx9nD\n",
       "/tgLPnvndhw5tSr8G0+3fle438CGrPLsYdWQ5KrmEOPUqV1nC2JEfHujx80Gpt/QQpOt9o3EGH0w\n",
       "jiE1JMOIQ/165YlHUO4plR2lY3yoiYp8z8Iut7G7nYcnMOQgaB5JFwAABAdBm05JqEFomUwU8EP/\n",
       "/qpVAAVLxN4ALo2Af7MnPX+vaN8TcnvteclnnIuRAdjOGK86SQJ3xZ1Y0w3s0YvJojz6aitPqJPS\n",
       "/yqz3EZwu8ohFfIgBp4d4ZSQ1R60DfjwS5JAmiwtP4+gZvFgc4u0kAwzs6OY+H82w35kJgPQ5xfn\n",
       "+F+g7nMA8VmftlsclvPL1FVH+Jxf+rBIMugC/kSABNRXY8ZrI9yTFvV6elIkTQ6vtcwW247hvF82\n",
       "MNC/8jQduSqF/+jSFcioO+PM8T+yRzcamqMaAppljLG+PvdJR9KSa2M8Z6WL4ClBuYVYkDUCLU4f\n",
       "kaINarHFw6GFOaQJkRqY1HaVH3YntTf8PjjJPAGVk675bWpCMjO9zo5hz8RlW0kxj+5HdPTboPaa\n",
       "kjKl/cZV1OHd8jQm0XNSjqVdf7dreZX0j8UeS5oblSvl+FSKQIGvehvF49rfJiBQrtP5oLdL7wqZ\n",
       "PE5TY8/BfMW/rg96ejfY1qkTOkV7XDvZFAG959O2Z9/fNGI3eSwaj8wOSkrggyh5tK1m1Lfx0QUZ\n",
       "erOOG0E+n0g91qrDGQBkT9vkkR9pV/ho/02wfHAfTj4l+ZDWgphhHoN5CYwSNXOpTy3v8NADqoxp\n",
       "xFGbdBUdEZ1v1Z5BZgtAnysVx5PVuUINMjRuxh1j0NqeZvPI8r9qVbUGu6bg/lkLdstND1jsf+6s\n",
       "Wk/Pk7IlRbvPES+OAWpmO4yf7SXJOwJgkd1TgbJ/xpKUhwZKWXT2yWbdfvWYahx8tlOXO+VvJKc0\n",
       "roqweZnkkdUdJ6iMcwaHv1MAx+irMelkK03nfcBTGhT7l9xCL21pe54OdwFb5C/6Ji4+2EoKiYkB\n",
       "UAV2JsLfh/AI/rdptICo5kLiFi/JBzmSwKPfOsJH7M4QpyYlsCaElRqVxt2Ytarh0vEYZZkcTCkP\n",
       "cIBb8YWEuChN2hqp2l6FUny2cuW/9YEPSYsWH4TRNLIkG/ugW67oSWbHo2Eb7EacfHoM67PprwS5\n",
       "TZDkMYFKM7pdrz83kr0taQAu/xppEx1rI50X1qi2GbDzlOxzYmSZTKkJgUD4Ek8IJI3cT1+omVtj\n",
       "kQD1//9WMQQZtn+dVFN40ptZ+/DtXV5NrsqcrKQgWliZLRKZbRTPG97o1I7z2GXHas78TFIMOEc5\n",
       "1CXHAwLe/YMFExktLkxZa1x4pclvo2gFTTj65Mraqs0oIpf2GMwXCb6jW8PaADn9c5ciFzy3Yg94\n",
       "83tJYLnbJm0v1aHsvBLAzSxpzMWgzYYNUIaregLToFBmSaCZNvzXZpd0Jwj1sX6AimqKXzIcRE5B\n",
       "1w4UGEUJbSmV5Gd6949gPcLDnZKQ+KgkAwoyFy5AqL8h/d3FPJdfDIUuFAqTSWxowQAAAZcBn21q\n",
       "Q38AD+KV1rEmhH1rAAQ/Vs9PZf8D6CXp1bH749aEnLeGohTeCHWhIxwB2FO2FRtJ+T55N8wI8DWh\n",
       "NbL4kaMYrL9DXfx4dBYZ4VOAco7nXB25HoO/Lfkbs+Ytx96PmD4QkWFynKd1riqoyOHcm1A8SRby\n",
       "DTVFboYwNB9Ec0p9KNDsP8MEkpu7XhkGuffip2K4rnB252vTr9UmXC8z33hqtv8XmdfmACP/64HF\n",
       "pBTRzYZmF7q6oBM57N1qn8hpdw3GTTubHCNGxN/r24H69gQf5CxNgqyumDnYKQhAQg2QqBI5WBLm\n",
       "EROkdi3H27d6DGLJ9GiP8lw5OFf6e0H1h1D8dl1SrWSevqvEM0vNgpWee2aUoOPBivwxYgWgVbxD\n",
       "XwpnuN/SjDKjR9VHFOY7LnFV7TNW29Lk0nf57ZCANAKQBIPw/EvLVzQJIw392kX1wcKbZlXVy49x\n",
       "Cxx03M2bT3r4+sqVH0/EjNxFNM2dp8LHmeWRlzIZ9a8N8pMgdFwmcCLffx+Onz4ECmm17KEISKYn\n",
       "pCUDAwAAA7lBm3BJ4QpSZTBSwR/+tSqAAqkWl7vAAtbJijotdgt1LW8PfEH9NAQguDHe72ZNBhAO\n",
       "oiMcT5IPBpApaG2Xbqne0aLhmgDsDvk+BrCmG+HzN2XOsFAhCvYTfLZ+YomijM33xKQ/5oLwN58r\n",
       "A9HpzHduNc6yhtFRIgJSnoTPflKrst3VabuhglziyYGXP+VPvIXlhGTWE1m8PwBPZu4FYwKpGdQV\n",
       "50PkeA9N1n6wg90cVQGM0fGN8Jv08VunqKIojdNST8PGb5+dyNJysIUtmGWBUxnMSMeWQEA5R2O/\n",
       "SbplvcC6B66fxGq+Q6FPxHRXMxb1C5ktWpTiKuEfCO9v976rqUJtq2e6YIXmc6XO04iJ8fRHU4kK\n",
       "1cELit/WFWbYeLDjzvZ+TmW/qjxATKw26DE0XcF7oYMdyVCKUTe2+j0oJ2PNxQOgJhALhtGe6zJ2\n",
       "oJtPcXqqoiSkx1ps7VKzeHLX2wMxT2njlsftMr16/TrMR1QcGOtVBNxnZwADqJPHEFSkPV+O88pl\n",
       "IOSC74uOBYXZDzZpHLGUNH3lGhGKS/cjH/nBZhd3eJ6aTXtOjmo31r9ob86UF8RM+lCNc8udv/NI\n",
       "7QtbcPr93jMKbVipIWmHiQ7xl5+tVaPpzcqsb0OKoK9UIN3faESPyhaTb8A+f02yXJdHj1xgvA/x\n",
       "B39i9cY0cqQqpZ8o1Ra1C+wBLJeurHSGrCwZYudmoC8g2S+oH6/mY/yhglkwChLt76k7OezPAHXX\n",
       "A9hc3Qa77i40sXpE7ffzoeE68bt766czvGnHZy/0uc5UwsaNXmlP2siviV6pqGW4eGj+f90N8Cot\n",
       "z7VU/3oGHjGCJXt9jRCYM3gkDPVS41Pa+FB99GhBzcf5WkU2qCIq5331Tnp0z8/otIgqa3lvaGPM\n",
       "WfZXPfV2KcKl6cfCQEagob0zpchDgmaq/fN75cKCSF2WQ7x4ltAjCX39w4DnBpaT0aK8SdcPFzlZ\n",
       "VtyodKucbKipUMbPRbckcRD6VyqCCzkdfoEE6BS61XaylntBmME+nNvO0VbJwxk71uqj4nB890H/\n",
       "A56DnELULEUCtOENGi/eLU3rUSrpECTHGzwaoLuPqxaeR3PRZewX8lEQk22ejKdt3OlQjJFC35lN\n",
       "78Tb3C6QzN2IukMQIGdZp86QKU9bFeAJu9ojM4RJ6leenA4CrX0E3r7ZwmhpMlHTKrwFvPXl3+P0\n",
       "XM239k7J5Ul4T+CBIS8ZxHmyLv11P7nl2O+bD0JvzQMXHId2HdHIvLNkctVkEnkVwQAAASoBn49q\n",
       "Q38AD7qqhY0j37kgBB5AG0/kLHHIYSYI/OnF7XD3bHrgZhy9JD43xShgl2rZS/WyvkDT+n60luhF\n",
       "YMpNI2x1op+55hfN8iNt2Sm7AF/x09ZnFoqixmlTXIm95RhQKYEmLqXHToT3y978I/s/YfYf/kAT\n",
       "vW//WeGow3LygkHQwNbkbxtqECMRj7ST29WxkJ44F6vvRzut6Qu+0Plo63Tz2gtCS6+NcSPh+fFV\n",
       "VClPAtmbuqOnnjrHTMu1YbOzu1rkm+eoeX/xBmqnRGcRhQS1tnlEEP3JFiDTEECmF2wXaZCCeVie\n",
       "c8HjPpUd3zmHPEzcg0ARgzqXwHL9Q7sBsFXwSxb61sIi07PDJHi3yiF3PncqrahJEdNvvougmk1T\n",
       "Di0AE/0IGDqgAAAEAkGbkknhDomUwUTBH/61KoACzf4gN7ZAXzpZ+7NGWJVnqkXjW92ifb+EBTiW\n",
       "pEcJ96h2F8DB98escAfWuuEjlRzS6yOdmqsV1DWbUFYuALBCeCiRVWJ70pe5/LnwQzPL8fdjLyVY\n",
       "NvNanAENxyou5mmnmBQq7ZWIKI1/zOYee2Oi51FkTgjAnMZZTt1ngdytSV+rvT2YWJ641hJfiCB7\n",
       "NB1JCx16dT4vplTTiJvRGa982AVJsWqgd20NFMGBgaSz2Isl6OItk+QXqz9CDwweArusOsk60h9r\n",
       "ZhhMucFEzSE7qhllSWOff/gkCyBZLJ4p4cH39987s9GLZeM9j6TWyCyNbNNn/8o98SoGzUZliAxY\n",
       "TleY2vTRjtwqKk7lge9KyIOkACECimRR1pMnrdmzboyQuD9geNhFDSdPORdsCCDO/jxPH0rlSqdz\n",
       "8vmvtmNMEVC/wzz1tN2WaFxBXtDt/RCLc7KaPkcmx6M/VrR7VigWA9JohwaOkst6TwU5GGKJtnfA\n",
       "u2PbTlQjSzZdkNzmHFYDOy3cY49wZDkUfF51z+bqEo2pctQS2KJ7WOc99le4VpRO7N9y8tymwWnU\n",
       "fUrxV2K6kZ1J6/+Brb4RfZHLnAx6YNkAGY4Va3YCKvc3jtKXzv5IaO8XNwGcUuTlxg6j/uXtJ9G6\n",
       "2MNrlHvSRsR+s1Y61v2IOL0Y3QdQyj/ON5DbaGu7TPKyTe5doWLbXIAkz/ryOFG8H5RDzgY+9r1T\n",
       "HmgvYb6+r7NzByfzfOXwEe83e+0DV2Ex8I2xlwPv6YlWDJvDedwAfFnAlnX+CLVZ7BwywgvNn6Z3\n",
       "Cyj847dI55pTTYjeVjbWHfvahpC6iXDgy9aI/B9dn0KXW12vSexQmXlAYQP0t7DE1Cd8KV2mD3Zx\n",
       "CAcSvvU+iRNPXRvYPm1vbrlzqXZtCihH8EogwJNvs5I/jlptKLSzDHOwqqCl2/odEdz4Ji/GUiUQ\n",
       "HpSpDeTL6KVFIZj9RZFrEjkJv4ASvBcjz93Q7Kv6RpEoKM2MTwVAWGC6xwaxnnS1ArpKeQl0vpiw\n",
       "/NpKTKCdNSvdvvrSzU39JgfkeY/6qhvBVhjN/z4SUPzY+F6ANDYBtzJ+JfRt/8DgJ/1dvzDQDqE2\n",
       "cSPkilstWku908ygICHI8GGoSdOH2LJLI83M8caa1H2vTBrJBfqz0E28LFzK1ot8colvW4xL9M9X\n",
       "3ksDO4o7Br6JQKmJpif1Eb+xLizj90q5vEfQ3dx3tm/8CIzCP/mFm74BeNCD70RjnpXJb5KRErSR\n",
       "BuTzPN2shryVHnjObWWUJj0mNxMbD19YcHOi5mS+QuZ6nnspWkr3T0kfNFuPBTkP0upn9T9aBREy\n",
       "JbC+kGQ6az+2cWfcsAAAARsBn7FqQ38AD7qqgeLAwb3zSAEKakwqUpaZj06QMCm9kvCKTT1P8ZPF\n",
       "QAO5GkmGv4VW/Vi/G2Qer4MClDiubz7UW5LtNnfrEvIlIq15Hs+2TdVJpd9fhquhCNIPEmocETzN\n",
       "Nd3zDoLSKU9+IIFAvP5celak6jbNvAZSOJa9TpqRHC9l9ravlTcpM+Ulv9yXXlTCow4dFJhVnN5/\n",
       "8qAtk6WXlRs4GwFg4EPlz9kijdjZKM44E6WMIwZExNbP+HFkTtlwQUFTocQu+mgf55zIODcBVnao\n",
       "DeloUz7Qqjq++0BZ19IAxAgGK4a1dmxR/h4R5zXZ0yq79WoA9E88anHMKfhlyT79IkjfKiz8TPNr\n",
       "0chAJuByHsEIOOOgAAu5AAADmEGbtknhDyZTAgj//rUqgALNHMmoKIIv6VPHmWt3oD/RRHVvsDEB\n",
       "OS04cfqKhJErMmqZxgVRUQfBzoJ7iPhLUGYyDGSrcnPzAImumQQHvXgLYige11X8F5o05FsgrXLK\n",
       "K9vmVUzxZThNBsXWx6/jI4Umxikh6qj4irxLm6yF6mQpJI1yLjuFX7vhis/5gQoPDOm7Ayyj2pY8\n",
       "7PR9Be39CI6H/8Clnt7aPfnYOXfsApYqbuxfPV01QuSjPCedodWszdV6KXH04Nljl/+n/77Hescv\n",
       "LxBzCOLxRdxwwWMpXNRcNBH3er99ri7ysc0lMt4a9WUm1uzDblOigsKkNw989df69grm2VHV7Di8\n",
       "L51+6AwMKstqkhbC6jZwt9l5PlDCEGK/MgfD2KHSjkI1oLVrvLDI/Oqkk8l+gmJV1DF0fT9lpUaZ\n",
       "yQuOcrZpVnTtDkO6usBHhaSd7Msnb+mW5Fl5Idajc3e9ilAGjZAFQjljSHz62ykvS7uH7tGYZV6v\n",
       "5b+GovJT+ZJYkmPpEhUD/XaAMILE9UDkCalN2bXVd0IT9NOxLxiqthRqkx+Y0yPhxypfHAMDG8Pq\n",
       "7KrxOEmYxnd1nBl5BA1ddz8YyY7vUIJououoyxyU3koIQN11io6khmVVCNIn47XvZ11fVJt3UgWz\n",
       "aR2ztYTosL8Iv5oUkcoJmrdAp1Po/DVUNkYCIqBJqUmzombIRHIysqWD4ekLn8Z9nO48wqg5XEQZ\n",
       "ZRkP4FXD2IuezbSaRTUb+DsA79v8QlXPGUL7iBHUXPz7JgxRT0/jRK/nhXP26SuohFzm8l/Pm27z\n",
       "NMW0h27FZmn8W2kb/RVD1rY+NNtI2S0DEYy1XznOcku+AsNXwB/ID+jpFZYiFmaKRVbDt+HyImqd\n",
       "U2KXjcNghpOku6bDP4una2tYQdJh1UdlsgRVBqeqZjV2sJXRXGYpaIEbpZaYff9LrgHT1bBfBm1X\n",
       "uqqrfJndXEYBJeVfx0dOqcZQs0IfcqBrUnCh/V+tUoRuskrmrugjRbwTfSDiuFJMJs+Mav2DUpL/\n",
       "GF3GwAewscAb98bDWrQYjx3LATVWWCkEN5PfoGAtThelrqeuLS34IAvVnLX8dfF/qo6H7XYn0ip8\n",
       "gcSeq486QTOdHv+rUjjncjJpVWTfZL3oGDrlVKR+I6Aj8LgFKOPTP0Eq+y0ReRal/v2MQi4fELv8\n",
       "EFHDOK+zZPJhwHdJmlcAwwPGHevdk3FMo79cAAABNUGf1EURPDv/AAtWMIxW+lIu8GVtRebNHJkC\n",
       "t7PQz12qbh7kxMSp3RiVQZvNh1kKVKOmVKxptdU7qJSuDeh9jAE3V9RRkoHLWCmQM4Upy6HO8sup\n",
       "ztjjv+ClbNAKbXeoWqPtElU/1v5fglNl99PS6bbCvk1+VAlvi6pBk+6+wHps9mrPbcFXjvR+DUvS\n",
       "grmqSrdadk1IZPDAfT2/7HRd2ECW5O2A0/XRwW8NweUvA277HzA165a/J9U+xoXY//yjM40AMb28\n",
       "bHoZvXMvssgXDYsQY+Op3n8dAqSWxdaxL0jNZe6BViDDfiIf0bxhapMVzRkdoVSAfVPIjVUAmP62\n",
       "mSwFEXgUleA5WXxKSzr9C5iu3aCibAbN7zgZEidiBQOF/PjM6THSY1QZUvO9ihf9XPOGAABSQAAA\n",
       "AK8Bn/N0Q38AD96gMDpABs2w2UnVqsSkWdyrWHa0cnKsxmhKPxviTxhKT8kU0K+iSNhdD9VSPsfl\n",
       "rF4Xke61uKv1fH/VlKZMrfUmoNfPb3uxQx0x9olQtrj2Jqm2+xzDREklniRWPzpDOaU9WCcj4PWe\n",
       "ryDdrI90N3UA9KU6SeVB7wraYNB41UCfcBS6+yuNtL9tCrxb/2xlrHCb5rXX58DfoaDLf/55P6I7\n",
       "kwQAAK+BAAAAiAGf9WpDfwAP4UahNVA1lFzWRZXeHyrnhcJ/TsCYpTGIo/nnlOC8aabgqMrGBQAa\n",
       "nEr8TY8e/pjlkPTbC+uvMiRES62DXLtZmNcHF/8PFL9klj+OtwEjTd9CbooURNKsPuMlLzGWD2lh\n",
       "8r1+QudrUTSx6+bBOWlhhmA1JFoinoPCte7HokAAD0gAAAHwQZv4SahBaJlMFPBH//61KoACy/in\n",
       "9JeAWsYsdJiHcEpPz3Li1C0fjhb6lSqR+C2B3WyAnxcWYqiLPp+EJGHVzSLVj1hF7mP4YymVFmit\n",
       "y6z43rYVpJmIDte2Ev7WhxOXL7RWC6t/MJUVgJ30rRUa4b38JvgziMp5iuik+9gUt2EJb3ISnCWy\n",
       "dmrwWDVxWjNQNCx7E9j8TBmyTYv6bgV+alLuwsXdIj9r9OT8JS5FMefJwFp2hdVcG/9pcpZzPV5r\n",
       "++Z+BBTfkdGR15xCh5vfzrUKqXr1QIBx2H/1atUAaKSUB+WyqZMW/VOLiiuukAwXHyCRogHdGBBn\n",
       "LbQAl3xdBefyv96niKh1bIM4dmTGgda7xifu/OcWzYAUT5vZWeO7e7b7OHrhqoBc6CcL190LUT48\n",
       "qKpTyMoIzk6o1qAiBrbhCaJ0sauCSfmkfeJwOcBRiSl+Ts+44ZsgaLFVVlbNvdWbX17pdcigG0Ir\n",
       "BFhoCajdCOUf1UiCxhzeEpBUzdQd8qQgMGXr5m9YbbrSoZ/2BUhlnB8UH1ntZR7+GTRWwvUWjPrD\n",
       "Xpur/VH/pkLnXDgoIzJu50F6TtNyKRSu67yWkBdzhAOdlEsbIdFMIKjvXOA32mv+yl6aK11na2Pm\n",
       "wWtgF7vPBKpn6pqjiOsjgAB6QQAAAEcBnhdqQ38AD+KV80sJm2Rfxl+D1deXRC3NIANpfxSSnnpY\n",
       "wxGHcg27kUjWWUeKLWqok0qyGbk3XR5Qpw6yoGuccEIZAAAMWQAAAetBmhxJ4QpSZTAgj//+tSqA\n",
       "Asuyxq0AJrDOkL3korLyFn4VwSpG5zEPmu3TvmLHKyO9Dy/p0TcNdDCIFd4ams1QYkaelAYF5bae\n",
       "ObvRf1bcGdOiUiznkZCNFROrYfsfx5TBpZoiEaRhUCwTW14sAsMVHXfiSDRW3Y/b6jJdJycO639V\n",
       "GgdyT1dvPKHB1X2N8rJL8NOg7lgx2ncM7JDHVIQy2J1QUl/RbMW0aCChl1r+hl2aO/4dAtsgzgjJ\n",
       "Uw/O6QBOHtB0KZQlsghk8ZW1PNNbDf3MHiZgA4I9zWn/A32/NP6tP0eFN4VxWYXf+3I2ZvMJWLP+\n",
       "1iZXtkONkwEikf/hSDpzm61koHaVks3yJegqKnLiLx7M4JlVgmE38G2UEx2Gr/G+ziYuls7lmNf8\n",
       "PmRwboBcAceKo30A6pjUn3A/NFbblI2urxHDSWeDHWCxc4asKRjWekAkmW2xNlXvntMozlO66u68\n",
       "AmDAI6gC3hbn1i4n5NzO/sP6dfE2r1AYx7I3qnK09ooo8KmZtO94trA32hrFwzA8Zwmwb31R0y8a\n",
       "/UWvuQbkQSKIvJqOciTm6Yi4VJxD+LxwLioaA6DTre+iZz3jZPVRfz4m2dPf/0dR0NA9X4HRDprI\n",
       "J7UClRpypitiSpMTTPoV4Y6h4wAAAG1BnjpFNEw7/wALcxdoAg0jloAPnvh/LaibIFeEFKGVNaI+\n",
       "Z0ykTVW0s94zBxCgslEhe0B6kIvgoUtBceeAma43N6km/9MvHsXgShW65a2Mcymc77LuLiIMpC9U\n",
       "FWt0NTzsW7+OFQcgeXVgAAHdAAAAJQGeWXRDfwAP3p/KjBebqoIDSj+cTjdfMh1DyXfMmIqyL+AA\n",
       "BgQAAAAfAZ5bakN/AA/hRDI4Yscg2DOy7u2yf+u9O97WAAAFpQAAAQZBmkBJqEFomUwIIf/+qlUA\n",
       "BZOijaAFBLDekq2zCKvoXMKtkJv69I3Z6RPJxdrmBQrDrc/7ilyBSJI0FcrySmRA6HRzK2eSUa9J\n",
       "2/PuN6g1Gh+rtGLlghKBzcorJiAT9W+4JaR6HOz7T+N/COhwSL8sAaW2znL36sWrosWBBVG6LZU2\n",
       "PmXVLK4wpfM0+N/TzxKr5PISQxTaGX+1hjl2kLSz9BNVIqSEYeapqmsMlN9RTc5f4T1JSATQcBg6\n",
       "l/bPx8o4Amg9Zg6Zb2pigQLgRHsYdHolbL258CMxCdWbieuCm0yKeA4WzH6II+IdNd/ZbBDbXs8E\n",
       "9JkW9TbUehXSrB6YdJ+AAHTBAAAAJkGefkURLDv/AAtzhHJG1RnTVS9/Po5QxjL6xVpOPj/slFGA\n",
       "AApIAAAAHwGenXRDfwAP3p4ndtTPEryybd3fKHhwnKbnEgAAl4AAAAAgAZ6fakN/AA/hQgRbVXQU\n",
       "uCUONn5+G7CsVwDtigAAwIEAAAA0QZqESahBbJlMCH///qmWABSepqgAuQGxyPVLPgn0rPV0OPpv\n",
       "doq7sgtJOba5Xn9+UAAPSAAAACRBnqJFFSw7/wALc4W0t0r8/Va9lqTkwi5lbxcvL/GFYoAAHTEA\n",
       "AAAdAZ7BdEN/AA/em0wUriXafC7u6A4paC/W3AAARcAAAAAdAZ7DakN/AA/hQgRUrmgLHbJfDk8E\n",
       "WN5ku0AABs0AAAAYQZrHSahBbJlMCG///qeEABLUPprAAAelAAAAJEGe5UUVLDf/AA/ilMpqleig\n",
       "ssWS7m6WHpR+NTzfdiyoAACygQAAAB0BnwZqQ38AD+FCBFSuaAsdsl8OTwRY3mS7QAAGzQAABNdt\n",
       "b292AAAAbG12aGQAAAAAAAAAAAAAAAAAAAPoAAAPoAABAAABAAAAAAAAAAAAAAAAAQAAAAAAAAAA\n",
       "AAAAAAAAAAEAAAAAAAAAAAAAAAAAAEAAAAAAAAAAAAAAAAAAAAAAAAAAAAAAAAAAAAAAAAACAAAE\n",
       "AXRyYWsAAABcdGtoZAAAAAMAAAAAAAAAAAAAAAEAAAAAAAAPoAAAAAAAAAAAAAAAAAAAAAAAAQAA\n",
       "AAAAAAAAAAAAAAAAAAEAAAAAAAAAAAAAAAAAAEAAAAAB9AAAAZAAAAAAACRlZHRzAAAAHGVsc3QA\n",
       "AAAAAAAAAQAAD6AAAAgAAAEAAAAAA3ltZGlhAAAAIG1kaGQAAAAAAAAAAAAAAAAAACgAAACgAFXE\n",
       "AAAAAAAtaGRscgAAAAAAAAAAdmlkZQAAAAAAAAAAAAAAAFZpZGVvSGFuZGxlcgAAAAMkbWluZgAA\n",
       "ABR2bWhkAAAAAQAAAAAAAAAAAAAAJGRpbmYAAAAcZHJlZgAAAAAAAAABAAAADHVybCAAAAABAAAC\n",
       "5HN0YmwAAAC0c3RzZAAAAAAAAAABAAAApGF2YzEAAAAAAAAAAQAAAAAAAAAAAAAAAAAAAAAB9AGQ\n",
       "AEgAAABIAAAAAAAAAAEAAAAAAAAAAAAAAAAAAAAAAAAAAAAAAAAAAAAAAAAAAAAY//8AAAAyYXZj\n",
       "QwFkABb/4QAZZ2QAFqzZQIAz5+EAAAMAAQAAAwAUDxYtlgEABmjr48siwAAAABx1dWlka2hA8l8k\n",
       "T8W6OaUbzwMj8wAAAAAAAAAYc3R0cwAAAAAAAAABAAAAKAAABAAAAAAUc3RzcwAAAAAAAAABAAAA\n",
       "AQAAARhjdHRzAAAAAAAAACEAAAAHAAAIAAAAAAEAAAwAAAAAAQAABAAAAAABAAAUAAAAAAEAAAgA\n",
       "AAAAAQAAAAAAAAABAAAEAAAAAAEAAAwAAAAAAQAABAAAAAABAAAMAAAAAAEAAAQAAAAAAQAADAAA\n",
       "AAABAAAEAAAAAAEAABQAAAAAAQAACAAAAAABAAAAAAAAAAEAAAQAAAAAAQAADAAAAAABAAAEAAAA\n",
       "AAEAABQAAAAAAQAACAAAAAABAAAAAAAAAAEAAAQAAAAAAQAAFAAAAAABAAAIAAAAAAEAAAAAAAAA\n",
       "AQAABAAAAAABAAAUAAAAAAEAAAgAAAAAAQAAAAAAAAABAAAEAAAAAAEAABAAAAAAAgAABAAAAAAc\n",
       "c3RzYwAAAAAAAAABAAAAAQAAACgAAAABAAAAtHN0c3oAAAAAAAAAAAAAACgAABT3AAAB9AAAAxoA\n",
       "AAPoAAABvgAAAggAAAIBAAACRgAAAMQAAASjAAABmwAAAKwAAAHBAAAECwAAAZsAAAO9AAABLgAA\n",
       "BAYAAAEfAAADnAAAATkAAACzAAAAjAAAAfQAAABLAAAB7wAAAHEAAAApAAAAIwAAAQoAAAAqAAAA\n",
       "IwAAACQAAAA4AAAAKAAAACEAAAAhAAAAHAAAACgAAAAhAAAAFHN0Y28AAAAAAAAAAQAAACwAAABi\n",
       "dWR0YQAAAFptZXRhAAAAAAAAACFoZGxyAAAAAAAAAABtZGlyYXBwbAAAAAAAAAAAAAAAAC1pbHN0\n",
       "AAAAJal0b28AAAAdZGF0YQAAAAEAAAAATGF2ZjU3LjcxLjEwMA==\n",
       "\">\n",
       "  Your browser does not support the video tag.\n",
       "</video>"
      ],
      "text/plain": [
       "<matplotlib.animation.FuncAnimation at 0x1186f3cd0>"
      ]
     },
     "execution_count": 65,
     "metadata": {},
     "output_type": "execute_result"
    }
   ],
   "source": [
    "ani = animation.FuncAnimation(fig, animate, np.arange(0,40), interval =100)\n",
    "ani"
   ]
  },
  {
   "cell_type": "markdown",
   "metadata": {},
   "source": [
    "This is how Stochastic Gradient Descent works which is the most important algorithm in Deep Learning. It starts with random weights and ends with weights that better fit your model."
   ]
  },
  {
   "cell_type": "code",
   "execution_count": null,
   "metadata": {
    "collapsed": true
   },
   "outputs": [],
   "source": []
  }
 ],
 "metadata": {
  "kernelspec": {
   "display_name": "Python 2",
   "language": "python",
   "name": "python2"
  },
  "language_info": {
   "codemirror_mode": {
    "name": "ipython",
    "version": 2
   },
   "file_extension": ".py",
   "mimetype": "text/x-python",
   "name": "python",
   "nbconvert_exporter": "python",
   "pygments_lexer": "ipython2",
   "version": "2.7.13"
  }
 },
 "nbformat": 4,
 "nbformat_minor": 2
}
